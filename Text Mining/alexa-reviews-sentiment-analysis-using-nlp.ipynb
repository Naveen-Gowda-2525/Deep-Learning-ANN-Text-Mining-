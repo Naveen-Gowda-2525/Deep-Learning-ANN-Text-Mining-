{
 "cells": [
  {
   "cell_type": "markdown",
   "metadata": {
    "papermill": {
     "duration": 0.027968,
     "end_time": "2021-01-20T16:16:42.447447",
     "exception": false,
     "start_time": "2021-01-20T16:16:42.419479",
     "status": "completed"
    },
    "tags": []
   },
   "source": [
    "# About the Data\n",
    "\n",
    "# This dataset consists of a nearly 3000 Amazon customer reviews (input text), star ratings, date of review, variant and feedback of various amazon Alexa products like Alexa Echo, Echo dots, Alexa Firesticks etc."
   ]
  },
  {
   "cell_type": "code",
   "execution_count": 1,
   "metadata": {
    "ExecuteTime": {
     "end_time": "2021-03-18T13:05:13.032446Z",
     "start_time": "2021-03-18T13:04:41.788460Z"
    },
    "execution": {
     "iopub.execute_input": "2021-01-20T16:16:42.569802Z",
     "iopub.status.busy": "2021-01-20T16:16:42.569060Z",
     "iopub.status.idle": "2021-01-20T16:16:43.854975Z",
     "shell.execute_reply": "2021-01-20T16:16:43.855573Z"
    },
    "papermill": {
     "duration": 1.321657,
     "end_time": "2021-01-20T16:16:43.855747",
     "exception": false,
     "start_time": "2021-01-20T16:16:42.534090",
     "status": "completed"
    },
    "tags": []
   },
   "outputs": [],
   "source": [
    "import pandas as pd\n",
    "import numpy as np\n",
    "import seaborn as sns\n",
    "import matplotlib.pyplot as plt\n",
    "from pylab import rcParams"
   ]
  },
  {
   "cell_type": "code",
   "execution_count": 25,
   "metadata": {
    "ExecuteTime": {
     "end_time": "2021-03-18T13:16:25.738601Z",
     "start_time": "2021-03-18T13:16:25.694639Z"
    },
    "execution": {
     "iopub.execute_input": "2021-01-20T16:16:44.105526Z",
     "iopub.status.busy": "2021-01-20T16:16:44.104019Z",
     "iopub.status.idle": "2021-01-20T16:16:44.132496Z",
     "shell.execute_reply": "2021-01-20T16:16:44.133100Z"
    },
    "papermill": {
     "duration": 0.067171,
     "end_time": "2021-01-20T16:16:44.133270",
     "exception": false,
     "start_time": "2021-01-20T16:16:44.066099",
     "status": "completed"
    },
    "tags": []
   },
   "outputs": [
    {
     "data": {
      "text/html": [
       "<div>\n",
       "<style scoped>\n",
       "    .dataframe tbody tr th:only-of-type {\n",
       "        vertical-align: middle;\n",
       "    }\n",
       "\n",
       "    .dataframe tbody tr th {\n",
       "        vertical-align: top;\n",
       "    }\n",
       "\n",
       "    .dataframe thead th {\n",
       "        text-align: right;\n",
       "    }\n",
       "</style>\n",
       "<table border=\"1\" class=\"dataframe\">\n",
       "  <thead>\n",
       "    <tr style=\"text-align: right;\">\n",
       "      <th></th>\n",
       "      <th>rating</th>\n",
       "      <th>date</th>\n",
       "      <th>variation</th>\n",
       "      <th>verified_reviews</th>\n",
       "      <th>feedback</th>\n",
       "    </tr>\n",
       "  </thead>\n",
       "  <tbody>\n",
       "    <tr>\n",
       "      <th>0</th>\n",
       "      <td>5</td>\n",
       "      <td>31-Jul-18</td>\n",
       "      <td>Charcoal Fabric</td>\n",
       "      <td>Love my Echo!</td>\n",
       "      <td>1</td>\n",
       "    </tr>\n",
       "    <tr>\n",
       "      <th>1</th>\n",
       "      <td>5</td>\n",
       "      <td>31-Jul-18</td>\n",
       "      <td>Charcoal Fabric</td>\n",
       "      <td>Loved it!</td>\n",
       "      <td>1</td>\n",
       "    </tr>\n",
       "    <tr>\n",
       "      <th>2</th>\n",
       "      <td>4</td>\n",
       "      <td>31-Jul-18</td>\n",
       "      <td>Walnut Finish</td>\n",
       "      <td>Sometimes while playing a game, you can answer...</td>\n",
       "      <td>1</td>\n",
       "    </tr>\n",
       "    <tr>\n",
       "      <th>3</th>\n",
       "      <td>5</td>\n",
       "      <td>31-Jul-18</td>\n",
       "      <td>Charcoal Fabric</td>\n",
       "      <td>I have had a lot of fun with this thing. My 4 ...</td>\n",
       "      <td>1</td>\n",
       "    </tr>\n",
       "    <tr>\n",
       "      <th>4</th>\n",
       "      <td>5</td>\n",
       "      <td>31-Jul-18</td>\n",
       "      <td>Charcoal Fabric</td>\n",
       "      <td>Music</td>\n",
       "      <td>1</td>\n",
       "    </tr>\n",
       "    <tr>\n",
       "      <th>...</th>\n",
       "      <td>...</td>\n",
       "      <td>...</td>\n",
       "      <td>...</td>\n",
       "      <td>...</td>\n",
       "      <td>...</td>\n",
       "    </tr>\n",
       "    <tr>\n",
       "      <th>3145</th>\n",
       "      <td>5</td>\n",
       "      <td>30-Jul-18</td>\n",
       "      <td>Black  Dot</td>\n",
       "      <td>Perfect for kids, adults and everyone in betwe...</td>\n",
       "      <td>1</td>\n",
       "    </tr>\n",
       "    <tr>\n",
       "      <th>3146</th>\n",
       "      <td>5</td>\n",
       "      <td>30-Jul-18</td>\n",
       "      <td>Black  Dot</td>\n",
       "      <td>Listening to music, searching locations, check...</td>\n",
       "      <td>1</td>\n",
       "    </tr>\n",
       "    <tr>\n",
       "      <th>3147</th>\n",
       "      <td>5</td>\n",
       "      <td>30-Jul-18</td>\n",
       "      <td>Black  Dot</td>\n",
       "      <td>I do love these things, i have them running my...</td>\n",
       "      <td>1</td>\n",
       "    </tr>\n",
       "    <tr>\n",
       "      <th>3148</th>\n",
       "      <td>5</td>\n",
       "      <td>30-Jul-18</td>\n",
       "      <td>White  Dot</td>\n",
       "      <td>Only complaint I have is that the sound qualit...</td>\n",
       "      <td>1</td>\n",
       "    </tr>\n",
       "    <tr>\n",
       "      <th>3149</th>\n",
       "      <td>4</td>\n",
       "      <td>29-Jul-18</td>\n",
       "      <td>Black  Dot</td>\n",
       "      <td>Good</td>\n",
       "      <td>1</td>\n",
       "    </tr>\n",
       "  </tbody>\n",
       "</table>\n",
       "<p>3150 rows × 5 columns</p>\n",
       "</div>"
      ],
      "text/plain": [
       "      rating       date         variation  \\\n",
       "0          5  31-Jul-18  Charcoal Fabric    \n",
       "1          5  31-Jul-18  Charcoal Fabric    \n",
       "2          4  31-Jul-18    Walnut Finish    \n",
       "3          5  31-Jul-18  Charcoal Fabric    \n",
       "4          5  31-Jul-18  Charcoal Fabric    \n",
       "...      ...        ...               ...   \n",
       "3145       5  30-Jul-18        Black  Dot   \n",
       "3146       5  30-Jul-18        Black  Dot   \n",
       "3147       5  30-Jul-18        Black  Dot   \n",
       "3148       5  30-Jul-18        White  Dot   \n",
       "3149       4  29-Jul-18        Black  Dot   \n",
       "\n",
       "                                       verified_reviews  feedback  \n",
       "0                                         Love my Echo!         1  \n",
       "1                                             Loved it!         1  \n",
       "2     Sometimes while playing a game, you can answer...         1  \n",
       "3     I have had a lot of fun with this thing. My 4 ...         1  \n",
       "4                                                 Music         1  \n",
       "...                                                 ...       ...  \n",
       "3145  Perfect for kids, adults and everyone in betwe...         1  \n",
       "3146  Listening to music, searching locations, check...         1  \n",
       "3147  I do love these things, i have them running my...         1  \n",
       "3148  Only complaint I have is that the sound qualit...         1  \n",
       "3149                                               Good         1  \n",
       "\n",
       "[3150 rows x 5 columns]"
      ]
     },
     "execution_count": 25,
     "metadata": {},
     "output_type": "execute_result"
    }
   ],
   "source": [
    "import pandas as pd\n",
    "dataset = pd.read_csv('amazon_alexa.csv',sep='\\t')\n",
    "dataset"
   ]
  },
  {
   "cell_type": "code",
   "execution_count": 26,
   "metadata": {
    "ExecuteTime": {
     "end_time": "2021-03-18T13:17:12.423739Z",
     "start_time": "2021-03-18T13:17:12.408754Z"
    },
    "execution": {
     "iopub.execute_input": "2021-01-20T16:16:44.225150Z",
     "iopub.status.busy": "2021-01-20T16:16:44.224110Z",
     "iopub.status.idle": "2021-01-20T16:16:44.234093Z",
     "shell.execute_reply": "2021-01-20T16:16:44.234712Z"
    },
    "papermill": {
     "duration": 0.065403,
     "end_time": "2021-01-20T16:16:44.234868",
     "exception": false,
     "start_time": "2021-01-20T16:16:44.169465",
     "status": "completed"
    },
    "tags": []
   },
   "outputs": [
    {
     "data": {
      "text/html": [
       "<div>\n",
       "<style scoped>\n",
       "    .dataframe tbody tr th:only-of-type {\n",
       "        vertical-align: middle;\n",
       "    }\n",
       "\n",
       "    .dataframe tbody tr th {\n",
       "        vertical-align: top;\n",
       "    }\n",
       "\n",
       "    .dataframe thead th {\n",
       "        text-align: right;\n",
       "    }\n",
       "</style>\n",
       "<table border=\"1\" class=\"dataframe\">\n",
       "  <thead>\n",
       "    <tr style=\"text-align: right;\">\n",
       "      <th></th>\n",
       "      <th>rating</th>\n",
       "      <th>date</th>\n",
       "      <th>variation</th>\n",
       "      <th>verified_reviews</th>\n",
       "      <th>feedback</th>\n",
       "    </tr>\n",
       "  </thead>\n",
       "  <tbody>\n",
       "    <tr>\n",
       "      <th>0</th>\n",
       "      <td>5</td>\n",
       "      <td>31-Jul-18</td>\n",
       "      <td>Charcoal Fabric</td>\n",
       "      <td>Love my Echo!</td>\n",
       "      <td>1</td>\n",
       "    </tr>\n",
       "    <tr>\n",
       "      <th>1</th>\n",
       "      <td>5</td>\n",
       "      <td>31-Jul-18</td>\n",
       "      <td>Charcoal Fabric</td>\n",
       "      <td>Loved it!</td>\n",
       "      <td>1</td>\n",
       "    </tr>\n",
       "    <tr>\n",
       "      <th>2</th>\n",
       "      <td>4</td>\n",
       "      <td>31-Jul-18</td>\n",
       "      <td>Walnut Finish</td>\n",
       "      <td>Sometimes while playing a game, you can answer...</td>\n",
       "      <td>1</td>\n",
       "    </tr>\n",
       "    <tr>\n",
       "      <th>3</th>\n",
       "      <td>5</td>\n",
       "      <td>31-Jul-18</td>\n",
       "      <td>Charcoal Fabric</td>\n",
       "      <td>I have had a lot of fun with this thing. My 4 ...</td>\n",
       "      <td>1</td>\n",
       "    </tr>\n",
       "    <tr>\n",
       "      <th>4</th>\n",
       "      <td>5</td>\n",
       "      <td>31-Jul-18</td>\n",
       "      <td>Charcoal Fabric</td>\n",
       "      <td>Music</td>\n",
       "      <td>1</td>\n",
       "    </tr>\n",
       "  </tbody>\n",
       "</table>\n",
       "</div>"
      ],
      "text/plain": [
       "   rating       date         variation  \\\n",
       "0       5  31-Jul-18  Charcoal Fabric    \n",
       "1       5  31-Jul-18  Charcoal Fabric    \n",
       "2       4  31-Jul-18    Walnut Finish    \n",
       "3       5  31-Jul-18  Charcoal Fabric    \n",
       "4       5  31-Jul-18  Charcoal Fabric    \n",
       "\n",
       "                                    verified_reviews  feedback  \n",
       "0                                      Love my Echo!         1  \n",
       "1                                          Loved it!         1  \n",
       "2  Sometimes while playing a game, you can answer...         1  \n",
       "3  I have had a lot of fun with this thing. My 4 ...         1  \n",
       "4                                              Music         1  "
      ]
     },
     "execution_count": 26,
     "metadata": {},
     "output_type": "execute_result"
    }
   ],
   "source": [
    "dataset.head()"
   ]
  },
  {
   "cell_type": "markdown",
   "metadata": {
    "papermill": {
     "duration": 0.033607,
     "end_time": "2021-01-20T16:16:44.298435",
     "exception": false,
     "start_time": "2021-01-20T16:16:44.264828",
     "status": "completed"
    },
    "tags": []
   },
   "source": [
    "Let's perform a small EDA on the dataset"
   ]
  },
  {
   "cell_type": "code",
   "execution_count": 27,
   "metadata": {
    "ExecuteTime": {
     "end_time": "2021-03-18T13:17:18.117853Z",
     "start_time": "2021-03-18T13:17:18.094875Z"
    },
    "execution": {
     "iopub.execute_input": "2021-01-20T16:16:44.364428Z",
     "iopub.status.busy": "2021-01-20T16:16:44.363664Z",
     "iopub.status.idle": "2021-01-20T16:16:44.390400Z",
     "shell.execute_reply": "2021-01-20T16:16:44.389050Z"
    },
    "papermill": {
     "duration": 0.060927,
     "end_time": "2021-01-20T16:16:44.390547",
     "exception": false,
     "start_time": "2021-01-20T16:16:44.329620",
     "status": "completed"
    },
    "tags": []
   },
   "outputs": [
    {
     "data": {
      "text/html": [
       "<div>\n",
       "<style scoped>\n",
       "    .dataframe tbody tr th:only-of-type {\n",
       "        vertical-align: middle;\n",
       "    }\n",
       "\n",
       "    .dataframe tbody tr th {\n",
       "        vertical-align: top;\n",
       "    }\n",
       "\n",
       "    .dataframe thead th {\n",
       "        text-align: right;\n",
       "    }\n",
       "</style>\n",
       "<table border=\"1\" class=\"dataframe\">\n",
       "  <thead>\n",
       "    <tr style=\"text-align: right;\">\n",
       "      <th></th>\n",
       "      <th>rating</th>\n",
       "      <th>feedback</th>\n",
       "    </tr>\n",
       "  </thead>\n",
       "  <tbody>\n",
       "    <tr>\n",
       "      <th>count</th>\n",
       "      <td>3150.000000</td>\n",
       "      <td>3150.000000</td>\n",
       "    </tr>\n",
       "    <tr>\n",
       "      <th>mean</th>\n",
       "      <td>4.463175</td>\n",
       "      <td>0.918413</td>\n",
       "    </tr>\n",
       "    <tr>\n",
       "      <th>std</th>\n",
       "      <td>1.068506</td>\n",
       "      <td>0.273778</td>\n",
       "    </tr>\n",
       "    <tr>\n",
       "      <th>min</th>\n",
       "      <td>1.000000</td>\n",
       "      <td>0.000000</td>\n",
       "    </tr>\n",
       "    <tr>\n",
       "      <th>25%</th>\n",
       "      <td>4.000000</td>\n",
       "      <td>1.000000</td>\n",
       "    </tr>\n",
       "    <tr>\n",
       "      <th>50%</th>\n",
       "      <td>5.000000</td>\n",
       "      <td>1.000000</td>\n",
       "    </tr>\n",
       "    <tr>\n",
       "      <th>75%</th>\n",
       "      <td>5.000000</td>\n",
       "      <td>1.000000</td>\n",
       "    </tr>\n",
       "    <tr>\n",
       "      <th>max</th>\n",
       "      <td>5.000000</td>\n",
       "      <td>1.000000</td>\n",
       "    </tr>\n",
       "  </tbody>\n",
       "</table>\n",
       "</div>"
      ],
      "text/plain": [
       "            rating     feedback\n",
       "count  3150.000000  3150.000000\n",
       "mean      4.463175     0.918413\n",
       "std       1.068506     0.273778\n",
       "min       1.000000     0.000000\n",
       "25%       4.000000     1.000000\n",
       "50%       5.000000     1.000000\n",
       "75%       5.000000     1.000000\n",
       "max       5.000000     1.000000"
      ]
     },
     "execution_count": 27,
     "metadata": {},
     "output_type": "execute_result"
    }
   ],
   "source": [
    "dataset.describe()"
   ]
  },
  {
   "cell_type": "code",
   "execution_count": 28,
   "metadata": {
    "ExecuteTime": {
     "end_time": "2021-03-18T13:17:24.508124Z",
     "start_time": "2021-03-18T13:17:24.491140Z"
    },
    "execution": {
     "iopub.execute_input": "2021-01-20T16:16:44.462726Z",
     "iopub.status.busy": "2021-01-20T16:16:44.461932Z",
     "iopub.status.idle": "2021-01-20T16:16:44.476319Z",
     "shell.execute_reply": "2021-01-20T16:16:44.475700Z"
    },
    "papermill": {
     "duration": 0.055443,
     "end_time": "2021-01-20T16:16:44.476507",
     "exception": false,
     "start_time": "2021-01-20T16:16:44.421064",
     "status": "completed"
    },
    "tags": []
   },
   "outputs": [
    {
     "data": {
      "text/html": [
       "<div>\n",
       "<style scoped>\n",
       "    .dataframe tbody tr th:only-of-type {\n",
       "        vertical-align: middle;\n",
       "    }\n",
       "\n",
       "    .dataframe tbody tr th {\n",
       "        vertical-align: top;\n",
       "    }\n",
       "\n",
       "    .dataframe thead th {\n",
       "        text-align: right;\n",
       "    }\n",
       "</style>\n",
       "<table border=\"1\" class=\"dataframe\">\n",
       "  <thead>\n",
       "    <tr style=\"text-align: right;\">\n",
       "      <th></th>\n",
       "      <th>date</th>\n",
       "      <th>variation</th>\n",
       "      <th>verified_reviews</th>\n",
       "      <th>feedback</th>\n",
       "    </tr>\n",
       "    <tr>\n",
       "      <th>rating</th>\n",
       "      <th></th>\n",
       "      <th></th>\n",
       "      <th></th>\n",
       "      <th></th>\n",
       "    </tr>\n",
       "  </thead>\n",
       "  <tbody>\n",
       "    <tr>\n",
       "      <th>1</th>\n",
       "      <td>161</td>\n",
       "      <td>161</td>\n",
       "      <td>161</td>\n",
       "      <td>161</td>\n",
       "    </tr>\n",
       "    <tr>\n",
       "      <th>2</th>\n",
       "      <td>96</td>\n",
       "      <td>96</td>\n",
       "      <td>96</td>\n",
       "      <td>96</td>\n",
       "    </tr>\n",
       "    <tr>\n",
       "      <th>3</th>\n",
       "      <td>152</td>\n",
       "      <td>152</td>\n",
       "      <td>152</td>\n",
       "      <td>152</td>\n",
       "    </tr>\n",
       "    <tr>\n",
       "      <th>4</th>\n",
       "      <td>455</td>\n",
       "      <td>455</td>\n",
       "      <td>455</td>\n",
       "      <td>455</td>\n",
       "    </tr>\n",
       "    <tr>\n",
       "      <th>5</th>\n",
       "      <td>2286</td>\n",
       "      <td>2286</td>\n",
       "      <td>2286</td>\n",
       "      <td>2286</td>\n",
       "    </tr>\n",
       "  </tbody>\n",
       "</table>\n",
       "</div>"
      ],
      "text/plain": [
       "        date  variation  verified_reviews  feedback\n",
       "rating                                             \n",
       "1        161        161               161       161\n",
       "2         96         96                96        96\n",
       "3        152        152               152       152\n",
       "4        455        455               455       455\n",
       "5       2286       2286              2286      2286"
      ]
     },
     "execution_count": 28,
     "metadata": {},
     "output_type": "execute_result"
    }
   ],
   "source": [
    "dataset.groupby('rating').count()"
   ]
  },
  {
   "cell_type": "markdown",
   "metadata": {
    "papermill": {
     "duration": 0.034398,
     "end_time": "2021-01-20T16:16:44.548612",
     "exception": false,
     "start_time": "2021-01-20T16:16:44.514214",
     "status": "completed"
    },
    "tags": []
   },
   "source": [
    "The least ratings are rating 2 having only 96 entries and rating 5 is the one having the highest entries"
   ]
  },
  {
   "cell_type": "code",
   "execution_count": 29,
   "metadata": {
    "ExecuteTime": {
     "end_time": "2021-03-18T13:17:35.343191Z",
     "start_time": "2021-03-18T13:17:35.324208Z"
    },
    "execution": {
     "iopub.execute_input": "2021-01-20T16:16:44.617556Z",
     "iopub.status.busy": "2021-01-20T16:16:44.616840Z",
     "iopub.status.idle": "2021-01-20T16:16:44.629264Z",
     "shell.execute_reply": "2021-01-20T16:16:44.629859Z"
    },
    "papermill": {
     "duration": 0.048145,
     "end_time": "2021-01-20T16:16:44.630005",
     "exception": false,
     "start_time": "2021-01-20T16:16:44.581860",
     "status": "completed"
    },
    "tags": []
   },
   "outputs": [
    {
     "data": {
      "text/html": [
       "<div>\n",
       "<style scoped>\n",
       "    .dataframe tbody tr th:only-of-type {\n",
       "        vertical-align: middle;\n",
       "    }\n",
       "\n",
       "    .dataframe tbody tr th {\n",
       "        vertical-align: top;\n",
       "    }\n",
       "\n",
       "    .dataframe thead th {\n",
       "        text-align: right;\n",
       "    }\n",
       "</style>\n",
       "<table border=\"1\" class=\"dataframe\">\n",
       "  <thead>\n",
       "    <tr style=\"text-align: right;\">\n",
       "      <th></th>\n",
       "      <th>rating</th>\n",
       "      <th>date</th>\n",
       "      <th>variation</th>\n",
       "      <th>verified_reviews</th>\n",
       "    </tr>\n",
       "    <tr>\n",
       "      <th>feedback</th>\n",
       "      <th></th>\n",
       "      <th></th>\n",
       "      <th></th>\n",
       "      <th></th>\n",
       "    </tr>\n",
       "  </thead>\n",
       "  <tbody>\n",
       "    <tr>\n",
       "      <th>0</th>\n",
       "      <td>257</td>\n",
       "      <td>257</td>\n",
       "      <td>257</td>\n",
       "      <td>257</td>\n",
       "    </tr>\n",
       "    <tr>\n",
       "      <th>1</th>\n",
       "      <td>2893</td>\n",
       "      <td>2893</td>\n",
       "      <td>2893</td>\n",
       "      <td>2893</td>\n",
       "    </tr>\n",
       "  </tbody>\n",
       "</table>\n",
       "</div>"
      ],
      "text/plain": [
       "          rating  date  variation  verified_reviews\n",
       "feedback                                           \n",
       "0            257   257        257               257\n",
       "1           2893  2893       2893              2893"
      ]
     },
     "execution_count": 29,
     "metadata": {},
     "output_type": "execute_result"
    }
   ],
   "source": [
    "dataset.groupby('feedback').count()"
   ]
  },
  {
   "cell_type": "markdown",
   "metadata": {
    "papermill": {
     "duration": 0.033014,
     "end_time": "2021-01-20T16:16:44.696432",
     "exception": false,
     "start_time": "2021-01-20T16:16:44.663418",
     "status": "completed"
    },
    "tags": []
   },
   "source": [
    "As we can see, the dataset has almost 10 times positive reviews compared to negative reviews."
   ]
  },
  {
   "cell_type": "code",
   "execution_count": 30,
   "metadata": {
    "ExecuteTime": {
     "end_time": "2021-03-18T13:18:18.349274Z",
     "start_time": "2021-03-18T13:18:18.329293Z"
    },
    "execution": {
     "iopub.execute_input": "2021-01-20T16:16:44.768542Z",
     "iopub.status.busy": "2021-01-20T16:16:44.767830Z",
     "iopub.status.idle": "2021-01-20T16:16:44.820634Z",
     "shell.execute_reply": "2021-01-20T16:16:44.819767Z"
    },
    "papermill": {
     "duration": 0.088909,
     "end_time": "2021-01-20T16:16:44.820772",
     "exception": false,
     "start_time": "2021-01-20T16:16:44.731863",
     "status": "completed"
    },
    "tags": []
   },
   "outputs": [
    {
     "data": {
      "text/html": [
       "<div>\n",
       "<style scoped>\n",
       "    .dataframe tbody tr th:only-of-type {\n",
       "        vertical-align: middle;\n",
       "    }\n",
       "\n",
       "    .dataframe tbody tr th {\n",
       "        vertical-align: top;\n",
       "    }\n",
       "\n",
       "    .dataframe thead th {\n",
       "        text-align: right;\n",
       "    }\n",
       "</style>\n",
       "<table border=\"1\" class=\"dataframe\">\n",
       "  <thead>\n",
       "    <tr style=\"text-align: right;\">\n",
       "      <th></th>\n",
       "      <th>rating</th>\n",
       "      <th>date</th>\n",
       "      <th>variation</th>\n",
       "      <th>verified_reviews</th>\n",
       "      <th>feedback</th>\n",
       "    </tr>\n",
       "  </thead>\n",
       "  <tbody>\n",
       "  </tbody>\n",
       "</table>\n",
       "</div>"
      ],
      "text/plain": [
       "Empty DataFrame\n",
       "Columns: [rating, date, variation, verified_reviews, feedback]\n",
       "Index: []"
      ]
     },
     "execution_count": 30,
     "metadata": {},
     "output_type": "execute_result"
    }
   ],
   "source": [
    "dataset.query('feedback==\"0\" & rating>2')"
   ]
  },
  {
   "cell_type": "markdown",
   "metadata": {
    "papermill": {
     "duration": 0.033425,
     "end_time": "2021-01-20T16:16:44.887706",
     "exception": false,
     "start_time": "2021-01-20T16:16:44.854281",
     "status": "completed"
    },
    "tags": []
   },
   "source": [
    "if a review has a rating of 3 or more than 3, it is given a feedback of 1, else 0"
   ]
  },
  {
   "cell_type": "code",
   "execution_count": 31,
   "metadata": {
    "ExecuteTime": {
     "end_time": "2021-03-18T13:18:35.264928Z",
     "start_time": "2021-03-18T13:18:35.254934Z"
    },
    "execution": {
     "iopub.execute_input": "2021-01-20T16:16:44.961067Z",
     "iopub.status.busy": "2021-01-20T16:16:44.959982Z",
     "iopub.status.idle": "2021-01-20T16:16:44.970253Z",
     "shell.execute_reply": "2021-01-20T16:16:44.970788Z"
    },
    "papermill": {
     "duration": 0.05015,
     "end_time": "2021-01-20T16:16:44.970969",
     "exception": false,
     "start_time": "2021-01-20T16:16:44.920819",
     "status": "completed"
    },
    "tags": []
   },
   "outputs": [
    {
     "data": {
      "text/plain": [
       "'Not much features.'"
      ]
     },
     "execution_count": 31,
     "metadata": {},
     "output_type": "execute_result"
    }
   ],
   "source": [
    "dataset[dataset['feedback'] == 0]['verified_reviews'].iloc[2]"
   ]
  },
  {
   "cell_type": "markdown",
   "metadata": {
    "papermill": {
     "duration": 0.034822,
     "end_time": "2021-01-20T16:16:45.041526",
     "exception": false,
     "start_time": "2021-01-20T16:16:45.006704",
     "status": "completed"
    },
    "tags": []
   },
   "source": [
    "An example of a review having negative feedback."
   ]
  },
  {
   "cell_type": "code",
   "execution_count": 32,
   "metadata": {
    "ExecuteTime": {
     "end_time": "2021-03-18T13:22:28.140996Z",
     "start_time": "2021-03-18T13:22:28.114021Z"
    },
    "execution": {
     "iopub.execute_input": "2021-01-20T16:16:45.113178Z",
     "iopub.status.busy": "2021-01-20T16:16:45.112562Z",
     "iopub.status.idle": "2021-01-20T16:16:45.129055Z",
     "shell.execute_reply": "2021-01-20T16:16:45.128426Z"
    },
    "papermill": {
     "duration": 0.053337,
     "end_time": "2021-01-20T16:16:45.129174",
     "exception": false,
     "start_time": "2021-01-20T16:16:45.075837",
     "status": "completed"
    },
    "tags": []
   },
   "outputs": [
    {
     "data": {
      "text/html": [
       "<div>\n",
       "<style scoped>\n",
       "    .dataframe tbody tr th:only-of-type {\n",
       "        vertical-align: middle;\n",
       "    }\n",
       "\n",
       "    .dataframe tbody tr th {\n",
       "        vertical-align: top;\n",
       "    }\n",
       "\n",
       "    .dataframe thead th {\n",
       "        text-align: right;\n",
       "    }\n",
       "</style>\n",
       "<table border=\"1\" class=\"dataframe\">\n",
       "  <thead>\n",
       "    <tr style=\"text-align: right;\">\n",
       "      <th></th>\n",
       "      <th>rating</th>\n",
       "      <th>date</th>\n",
       "      <th>variation</th>\n",
       "      <th>verified_reviews</th>\n",
       "      <th>feedback</th>\n",
       "      <th>length</th>\n",
       "    </tr>\n",
       "  </thead>\n",
       "  <tbody>\n",
       "    <tr>\n",
       "      <th>0</th>\n",
       "      <td>5</td>\n",
       "      <td>31-Jul-18</td>\n",
       "      <td>Charcoal Fabric</td>\n",
       "      <td>Love my Echo!</td>\n",
       "      <td>1</td>\n",
       "      <td>13</td>\n",
       "    </tr>\n",
       "    <tr>\n",
       "      <th>1</th>\n",
       "      <td>5</td>\n",
       "      <td>31-Jul-18</td>\n",
       "      <td>Charcoal Fabric</td>\n",
       "      <td>Loved it!</td>\n",
       "      <td>1</td>\n",
       "      <td>9</td>\n",
       "    </tr>\n",
       "    <tr>\n",
       "      <th>2</th>\n",
       "      <td>4</td>\n",
       "      <td>31-Jul-18</td>\n",
       "      <td>Walnut Finish</td>\n",
       "      <td>Sometimes while playing a game, you can answer...</td>\n",
       "      <td>1</td>\n",
       "      <td>195</td>\n",
       "    </tr>\n",
       "    <tr>\n",
       "      <th>3</th>\n",
       "      <td>5</td>\n",
       "      <td>31-Jul-18</td>\n",
       "      <td>Charcoal Fabric</td>\n",
       "      <td>I have had a lot of fun with this thing. My 4 ...</td>\n",
       "      <td>1</td>\n",
       "      <td>172</td>\n",
       "    </tr>\n",
       "    <tr>\n",
       "      <th>4</th>\n",
       "      <td>5</td>\n",
       "      <td>31-Jul-18</td>\n",
       "      <td>Charcoal Fabric</td>\n",
       "      <td>Music</td>\n",
       "      <td>1</td>\n",
       "      <td>5</td>\n",
       "    </tr>\n",
       "  </tbody>\n",
       "</table>\n",
       "</div>"
      ],
      "text/plain": [
       "   rating       date         variation  \\\n",
       "0       5  31-Jul-18  Charcoal Fabric    \n",
       "1       5  31-Jul-18  Charcoal Fabric    \n",
       "2       4  31-Jul-18    Walnut Finish    \n",
       "3       5  31-Jul-18  Charcoal Fabric    \n",
       "4       5  31-Jul-18  Charcoal Fabric    \n",
       "\n",
       "                                    verified_reviews  feedback  length  \n",
       "0                                      Love my Echo!         1      13  \n",
       "1                                          Loved it!         1       9  \n",
       "2  Sometimes while playing a game, you can answer...         1     195  \n",
       "3  I have had a lot of fun with this thing. My 4 ...         1     172  \n",
       "4                                              Music         1       5  "
      ]
     },
     "execution_count": 32,
     "metadata": {},
     "output_type": "execute_result"
    }
   ],
   "source": [
    "#to calculate how long the reviews are:\n",
    "\n",
    "dataset['length'] = dataset['verified_reviews'].apply(len)\n",
    "dataset.head()"
   ]
  },
  {
   "cell_type": "code",
   "execution_count": 12,
   "metadata": {
    "execution": {
     "iopub.execute_input": "2021-01-20T16:16:45.202784Z",
     "iopub.status.busy": "2021-01-20T16:16:45.202097Z",
     "iopub.status.idle": "2021-01-20T16:16:45.205508Z",
     "shell.execute_reply": "2021-01-20T16:16:45.206103Z"
    },
    "papermill": {
     "duration": 0.043357,
     "end_time": "2021-01-20T16:16:45.206265",
     "exception": false,
     "start_time": "2021-01-20T16:16:45.162908",
     "status": "completed"
    },
    "tags": []
   },
   "outputs": [
    {
     "data": {
      "text/plain": [
       "2851"
      ]
     },
     "execution_count": 12,
     "metadata": {},
     "output_type": "execute_result"
    }
   ],
   "source": [
    "dataset.length.max()"
   ]
  },
  {
   "cell_type": "markdown",
   "metadata": {
    "papermill": {
     "duration": 0.034782,
     "end_time": "2021-01-20T16:16:45.276870",
     "exception": false,
     "start_time": "2021-01-20T16:16:45.242088",
     "status": "completed"
    },
    "tags": []
   },
   "source": [
    "Longest review is of 2851 characters. Let us see which one it is."
   ]
  },
  {
   "cell_type": "code",
   "execution_count": 33,
   "metadata": {
    "ExecuteTime": {
     "end_time": "2021-03-18T13:22:53.464453Z",
     "start_time": "2021-03-18T13:22:53.443474Z"
    },
    "execution": {
     "iopub.execute_input": "2021-01-20T16:16:45.349878Z",
     "iopub.status.busy": "2021-01-20T16:16:45.349140Z",
     "iopub.status.idle": "2021-01-20T16:16:45.364529Z",
     "shell.execute_reply": "2021-01-20T16:16:45.363951Z"
    },
    "papermill": {
     "duration": 0.051974,
     "end_time": "2021-01-20T16:16:45.364660",
     "exception": false,
     "start_time": "2021-01-20T16:16:45.312686",
     "status": "completed"
    },
    "tags": []
   },
   "outputs": [
    {
     "data": {
      "text/html": [
       "<div>\n",
       "<style scoped>\n",
       "    .dataframe tbody tr th:only-of-type {\n",
       "        vertical-align: middle;\n",
       "    }\n",
       "\n",
       "    .dataframe tbody tr th {\n",
       "        vertical-align: top;\n",
       "    }\n",
       "\n",
       "    .dataframe thead th {\n",
       "        text-align: right;\n",
       "    }\n",
       "</style>\n",
       "<table border=\"1\" class=\"dataframe\">\n",
       "  <thead>\n",
       "    <tr style=\"text-align: right;\">\n",
       "      <th></th>\n",
       "      <th>rating</th>\n",
       "      <th>date</th>\n",
       "      <th>variation</th>\n",
       "      <th>verified_reviews</th>\n",
       "      <th>feedback</th>\n",
       "      <th>length</th>\n",
       "    </tr>\n",
       "  </thead>\n",
       "  <tbody>\n",
       "    <tr>\n",
       "      <th>2016</th>\n",
       "      <td>5</td>\n",
       "      <td>20-Jul-18</td>\n",
       "      <td>Black  Plus</td>\n",
       "      <td>Incredible piece of technology.I have this rig...</td>\n",
       "      <td>1</td>\n",
       "      <td>2851</td>\n",
       "    </tr>\n",
       "  </tbody>\n",
       "</table>\n",
       "</div>"
      ],
      "text/plain": [
       "      rating       date    variation  \\\n",
       "2016       5  20-Jul-18  Black  Plus   \n",
       "\n",
       "                                       verified_reviews  feedback  length  \n",
       "2016  Incredible piece of technology.I have this rig...         1    2851  "
      ]
     },
     "execution_count": 33,
     "metadata": {},
     "output_type": "execute_result"
    }
   ],
   "source": [
    "dataset.query('length==\"2851\"')"
   ]
  },
  {
   "cell_type": "code",
   "execution_count": 14,
   "metadata": {
    "execution": {
     "iopub.execute_input": "2021-01-20T16:16:45.445053Z",
     "iopub.status.busy": "2021-01-20T16:16:45.444005Z",
     "iopub.status.idle": "2021-01-20T16:16:45.448292Z",
     "shell.execute_reply": "2021-01-20T16:16:45.447792Z"
    },
    "papermill": {
     "duration": 0.047951,
     "end_time": "2021-01-20T16:16:45.448426",
     "exception": false,
     "start_time": "2021-01-20T16:16:45.400475",
     "status": "completed"
    },
    "tags": []
   },
   "outputs": [
    {
     "data": {
      "text/plain": [
       "\"Incredible piece of technology.I have this right center of my living room on an island kitchen counter. The mic and speaker goes in every direction and the quality of the sound is quite good. I connected the Echo via Bluetooth to my Sony soundbar on my TV but find the Echo placement and 360 sound more appealing. It's no audiophile equipment but there is good range and decent bass. The sound is more than adequate for any indoor entertaining and loud enough to bother neighbors in my building. The knob on the top works great for adjusting volume. This is my first Echo device and I would imagine having to press volume buttons (on the Echo 2) a large inconvenience and not as precise. For that alone I would recommend this over the regular Echo (2nd generation).The piece looks quality and is quite sturdy with some weight on it. The rubber material on the bottom has a good grip on the granite counter-- my cat can even rub her scent on it without tipping it over.This order came with a free Philips Hue Bulb which I installed along with an extra one I bought. I put the 2 bulbs into my living room floor lamp, turned on the light, and all I had to do was say &#34;Alexa, connect my devices&#34;. The default names for each bulb was assigned as &#34;First light&#34; and &#34;Second light&#34;, so I can have a dimmer floor lamp if I just turned on/off one of the lights by saying &#34;Alexa, turn off the second light&#34;. In the Alexa app, I created a 'Group' with &#34;First light&#34; and &#34;Second light&#34; and named the group &#34;The light&#34;, so to turn on the lamp with both bulbs shining I just say &#34;Alexa, turn on The light&#34;.I was surprised how easily the bulbs connected to the Echo Plus with its built in hub. I thought I would have to buy a hub bridge to connect to my floor lamp power plug. Apparently there is some technology built directly inside the bulb! I was surprised by that. Awesome.You will feel like Tony Stark on this device. I added quite a few &#34;Skills&#34; like 'Thunderstorm sounds' and 'Quote of the day' . Alexa always loads them up quickly. Adding songs that you hear to specific playlists on Amazon Music is also a great feature.I can go on and on and this is only my second day of ownership.I was lucky to buy this for $100 on Prime Day, but I think for $150 is it pretty expensive considering the Echo 2 is only $100. In my opinion, you will be paying a premium for the Echo Plus and you have to decide if the value is there for you:1) Taller and 360 sound unit.2) Volume knob on top that you spin (I think this is a huge benefit over buttons)3) Built in hub for Hue bulbs. After researching more, there are some cons to this setup if you plan on having more advanced light setups. For me and my floor lamp, it's just perfect.I highly recommend it and will buy an Echo dot for my bedroom now.\""
      ]
     },
     "execution_count": 14,
     "metadata": {},
     "output_type": "execute_result"
    }
   ],
   "source": [
    "dataset[dataset['length'] == 2851]['verified_reviews'].iloc[0]"
   ]
  },
  {
   "cell_type": "markdown",
   "metadata": {
    "papermill": {
     "duration": 0.039037,
     "end_time": "2021-01-20T16:16:45.523649",
     "exception": false,
     "start_time": "2021-01-20T16:16:45.484612",
     "status": "completed"
    },
    "tags": []
   },
   "source": [
    "Wow, that's a pretty long review!"
   ]
  },
  {
   "cell_type": "markdown",
   "metadata": {
    "papermill": {
     "duration": 0.035493,
     "end_time": "2021-01-20T16:16:45.599298",
     "exception": false,
     "start_time": "2021-01-20T16:16:45.563805",
     "status": "completed"
    },
    "tags": []
   },
   "source": [
    "Now let us check some of the minimum character reviews."
   ]
  },
  {
   "cell_type": "code",
   "execution_count": 15,
   "metadata": {
    "execution": {
     "iopub.execute_input": "2021-01-20T16:16:45.689120Z",
     "iopub.status.busy": "2021-01-20T16:16:45.687847Z",
     "iopub.status.idle": "2021-01-20T16:16:45.692492Z",
     "shell.execute_reply": "2021-01-20T16:16:45.693462Z"
    },
    "papermill": {
     "duration": 0.057403,
     "end_time": "2021-01-20T16:16:45.693718",
     "exception": false,
     "start_time": "2021-01-20T16:16:45.636315",
     "status": "completed"
    },
    "tags": []
   },
   "outputs": [
    {
     "data": {
      "text/plain": [
       "1"
      ]
     },
     "execution_count": 15,
     "metadata": {},
     "output_type": "execute_result"
    }
   ],
   "source": [
    "dataset.length.min()"
   ]
  },
  {
   "cell_type": "code",
   "execution_count": 35,
   "metadata": {
    "ExecuteTime": {
     "end_time": "2021-03-18T13:28:02.991228Z",
     "start_time": "2021-03-18T13:28:02.966251Z"
    },
    "execution": {
     "iopub.execute_input": "2021-01-20T16:16:45.791275Z",
     "iopub.status.busy": "2021-01-20T16:16:45.790528Z",
     "iopub.status.idle": "2021-01-20T16:16:45.815739Z",
     "shell.execute_reply": "2021-01-20T16:16:45.816441Z"
    },
    "papermill": {
     "duration": 0.077023,
     "end_time": "2021-01-20T16:16:45.816593",
     "exception": false,
     "start_time": "2021-01-20T16:16:45.739570",
     "status": "completed"
    },
    "tags": []
   },
   "outputs": [
    {
     "data": {
      "text/html": [
       "<div>\n",
       "<style scoped>\n",
       "    .dataframe tbody tr th:only-of-type {\n",
       "        vertical-align: middle;\n",
       "    }\n",
       "\n",
       "    .dataframe tbody tr th {\n",
       "        vertical-align: top;\n",
       "    }\n",
       "\n",
       "    .dataframe thead th {\n",
       "        text-align: right;\n",
       "    }\n",
       "</style>\n",
       "<table border=\"1\" class=\"dataframe\">\n",
       "  <thead>\n",
       "    <tr style=\"text-align: right;\">\n",
       "      <th></th>\n",
       "      <th>rating</th>\n",
       "      <th>date</th>\n",
       "      <th>variation</th>\n",
       "      <th>verified_reviews</th>\n",
       "      <th>feedback</th>\n",
       "      <th>length</th>\n",
       "    </tr>\n",
       "  </thead>\n",
       "  <tbody>\n",
       "    <tr>\n",
       "      <th>1692</th>\n",
       "      <td>5</td>\n",
       "      <td>28-Jul-18</td>\n",
       "      <td>Black  Show</td>\n",
       "      <td>👍🏻</td>\n",
       "      <td>1</td>\n",
       "      <td>2</td>\n",
       "    </tr>\n",
       "    <tr>\n",
       "      <th>1937</th>\n",
       "      <td>5</td>\n",
       "      <td>26-Jul-18</td>\n",
       "      <td>White  Plus</td>\n",
       "      <td>A+</td>\n",
       "      <td>1</td>\n",
       "      <td>2</td>\n",
       "    </tr>\n",
       "    <tr>\n",
       "      <th>2179</th>\n",
       "      <td>5</td>\n",
       "      <td>30-Jul-18</td>\n",
       "      <td>Configuration: Fire TV Stick</td>\n",
       "      <td>ok</td>\n",
       "      <td>1</td>\n",
       "      <td>2</td>\n",
       "    </tr>\n",
       "    <tr>\n",
       "      <th>2436</th>\n",
       "      <td>5</td>\n",
       "      <td>30-Jul-18</td>\n",
       "      <td>Configuration: Fire TV Stick</td>\n",
       "      <td>😄😄</td>\n",
       "      <td>1</td>\n",
       "      <td>2</td>\n",
       "    </tr>\n",
       "  </tbody>\n",
       "</table>\n",
       "</div>"
      ],
      "text/plain": [
       "      rating       date                     variation verified_reviews  \\\n",
       "1692       5  28-Jul-18                   Black  Show               👍🏻   \n",
       "1937       5  26-Jul-18                   White  Plus               A+   \n",
       "2179       5  30-Jul-18  Configuration: Fire TV Stick               ok   \n",
       "2436       5  30-Jul-18  Configuration: Fire TV Stick               😄😄   \n",
       "\n",
       "      feedback  length  \n",
       "1692         1       2  \n",
       "1937         1       2  \n",
       "2179         1       2  \n",
       "2436         1       2  "
      ]
     },
     "execution_count": 35,
     "metadata": {},
     "output_type": "execute_result"
    }
   ],
   "source": [
    "dataset.query('length==\"2\"')"
   ]
  },
  {
   "cell_type": "code",
   "execution_count": 36,
   "metadata": {
    "ExecuteTime": {
     "end_time": "2021-03-18T13:28:06.746574Z",
     "start_time": "2021-03-18T13:28:06.714602Z"
    },
    "execution": {
     "iopub.execute_input": "2021-01-20T16:16:45.896099Z",
     "iopub.status.busy": "2021-01-20T16:16:45.895442Z",
     "iopub.status.idle": "2021-01-20T16:16:45.915061Z",
     "shell.execute_reply": "2021-01-20T16:16:45.915635Z"
    },
    "papermill": {
     "duration": 0.059751,
     "end_time": "2021-01-20T16:16:45.915780",
     "exception": false,
     "start_time": "2021-01-20T16:16:45.856029",
     "status": "completed"
    },
    "tags": []
   },
   "outputs": [
    {
     "data": {
      "text/html": [
       "<div>\n",
       "<style scoped>\n",
       "    .dataframe tbody tr th:only-of-type {\n",
       "        vertical-align: middle;\n",
       "    }\n",
       "\n",
       "    .dataframe tbody tr th {\n",
       "        vertical-align: top;\n",
       "    }\n",
       "\n",
       "    .dataframe thead th {\n",
       "        text-align: right;\n",
       "    }\n",
       "</style>\n",
       "<table border=\"1\" class=\"dataframe\">\n",
       "  <thead>\n",
       "    <tr style=\"text-align: right;\">\n",
       "      <th></th>\n",
       "      <th>rating</th>\n",
       "      <th>date</th>\n",
       "      <th>variation</th>\n",
       "      <th>verified_reviews</th>\n",
       "      <th>feedback</th>\n",
       "      <th>length</th>\n",
       "    </tr>\n",
       "  </thead>\n",
       "  <tbody>\n",
       "    <tr>\n",
       "      <th>60</th>\n",
       "      <td>5</td>\n",
       "      <td>30-Jul-18</td>\n",
       "      <td>Heather Gray Fabric</td>\n",
       "      <td>😍</td>\n",
       "      <td>1</td>\n",
       "      <td>1</td>\n",
       "    </tr>\n",
       "    <tr>\n",
       "      <th>85</th>\n",
       "      <td>5</td>\n",
       "      <td>30-Jul-18</td>\n",
       "      <td>Heather Gray Fabric</td>\n",
       "      <td></td>\n",
       "      <td>1</td>\n",
       "      <td>1</td>\n",
       "    </tr>\n",
       "    <tr>\n",
       "      <th>183</th>\n",
       "      <td>3</td>\n",
       "      <td>29-Jul-18</td>\n",
       "      <td>Heather Gray Fabric</td>\n",
       "      <td></td>\n",
       "      <td>1</td>\n",
       "      <td>1</td>\n",
       "    </tr>\n",
       "    <tr>\n",
       "      <th>219</th>\n",
       "      <td>5</td>\n",
       "      <td>29-Jul-18</td>\n",
       "      <td>Sandstone Fabric</td>\n",
       "      <td></td>\n",
       "      <td>1</td>\n",
       "      <td>1</td>\n",
       "    </tr>\n",
       "    <tr>\n",
       "      <th>374</th>\n",
       "      <td>1</td>\n",
       "      <td>26-Jul-18</td>\n",
       "      <td>Black</td>\n",
       "      <td></td>\n",
       "      <td>0</td>\n",
       "      <td>1</td>\n",
       "    </tr>\n",
       "    <tr>\n",
       "      <th>...</th>\n",
       "      <td>...</td>\n",
       "      <td>...</td>\n",
       "      <td>...</td>\n",
       "      <td>...</td>\n",
       "      <td>...</td>\n",
       "      <td>...</td>\n",
       "    </tr>\n",
       "    <tr>\n",
       "      <th>3114</th>\n",
       "      <td>3</td>\n",
       "      <td>30-Jul-18</td>\n",
       "      <td>Black  Dot</td>\n",
       "      <td></td>\n",
       "      <td>1</td>\n",
       "      <td>1</td>\n",
       "    </tr>\n",
       "    <tr>\n",
       "      <th>3120</th>\n",
       "      <td>5</td>\n",
       "      <td>30-Jul-18</td>\n",
       "      <td>Black  Dot</td>\n",
       "      <td></td>\n",
       "      <td>1</td>\n",
       "      <td>1</td>\n",
       "    </tr>\n",
       "    <tr>\n",
       "      <th>3123</th>\n",
       "      <td>4</td>\n",
       "      <td>30-Jul-18</td>\n",
       "      <td>Black  Dot</td>\n",
       "      <td></td>\n",
       "      <td>1</td>\n",
       "      <td>1</td>\n",
       "    </tr>\n",
       "    <tr>\n",
       "      <th>3126</th>\n",
       "      <td>5</td>\n",
       "      <td>30-Jul-18</td>\n",
       "      <td>Black  Dot</td>\n",
       "      <td></td>\n",
       "      <td>1</td>\n",
       "      <td>1</td>\n",
       "    </tr>\n",
       "    <tr>\n",
       "      <th>3141</th>\n",
       "      <td>3</td>\n",
       "      <td>30-Jul-18</td>\n",
       "      <td>Black  Dot</td>\n",
       "      <td></td>\n",
       "      <td>1</td>\n",
       "      <td>1</td>\n",
       "    </tr>\n",
       "  </tbody>\n",
       "</table>\n",
       "<p>81 rows × 6 columns</p>\n",
       "</div>"
      ],
      "text/plain": [
       "      rating       date             variation verified_reviews  feedback  \\\n",
       "60         5  30-Jul-18  Heather Gray Fabric                 😍         1   \n",
       "85         5  30-Jul-18  Heather Gray Fabric                           1   \n",
       "183        3  29-Jul-18  Heather Gray Fabric                           1   \n",
       "219        5  29-Jul-18     Sandstone Fabric                           1   \n",
       "374        1  26-Jul-18                 Black                          0   \n",
       "...      ...        ...                   ...              ...       ...   \n",
       "3114       3  30-Jul-18            Black  Dot                          1   \n",
       "3120       5  30-Jul-18            Black  Dot                          1   \n",
       "3123       4  30-Jul-18            Black  Dot                          1   \n",
       "3126       5  30-Jul-18            Black  Dot                          1   \n",
       "3141       3  30-Jul-18            Black  Dot                          1   \n",
       "\n",
       "      length  \n",
       "60         1  \n",
       "85         1  \n",
       "183        1  \n",
       "219        1  \n",
       "374        1  \n",
       "...      ...  \n",
       "3114       1  \n",
       "3120       1  \n",
       "3123       1  \n",
       "3126       1  \n",
       "3141       1  \n",
       "\n",
       "[81 rows x 6 columns]"
      ]
     },
     "execution_count": 36,
     "metadata": {},
     "output_type": "execute_result"
    }
   ],
   "source": [
    "dataset.query('length==\"1\"')"
   ]
  },
  {
   "cell_type": "code",
   "execution_count": 37,
   "metadata": {
    "ExecuteTime": {
     "end_time": "2021-03-18T13:28:11.008514Z",
     "start_time": "2021-03-18T13:28:10.986534Z"
    },
    "execution": {
     "iopub.execute_input": "2021-01-20T16:16:46.002959Z",
     "iopub.status.busy": "2021-01-20T16:16:45.995704Z",
     "iopub.status.idle": "2021-01-20T16:16:46.026273Z",
     "shell.execute_reply": "2021-01-20T16:16:46.026926Z"
    },
    "papermill": {
     "duration": 0.073982,
     "end_time": "2021-01-20T16:16:46.027097",
     "exception": false,
     "start_time": "2021-01-20T16:16:45.953115",
     "status": "completed"
    },
    "tags": []
   },
   "outputs": [
    {
     "data": {
      "text/html": [
       "<div>\n",
       "<style scoped>\n",
       "    .dataframe tbody tr th:only-of-type {\n",
       "        vertical-align: middle;\n",
       "    }\n",
       "\n",
       "    .dataframe tbody tr th {\n",
       "        vertical-align: top;\n",
       "    }\n",
       "\n",
       "    .dataframe thead th {\n",
       "        text-align: right;\n",
       "    }\n",
       "</style>\n",
       "<table border=\"1\" class=\"dataframe\">\n",
       "  <thead>\n",
       "    <tr style=\"text-align: right;\">\n",
       "      <th></th>\n",
       "      <th>rating</th>\n",
       "      <th>date</th>\n",
       "      <th>variation</th>\n",
       "      <th>verified_reviews</th>\n",
       "      <th>feedback</th>\n",
       "      <th>length</th>\n",
       "    </tr>\n",
       "  </thead>\n",
       "  <tbody>\n",
       "    <tr>\n",
       "      <th>1200</th>\n",
       "      <td>2</td>\n",
       "      <td>28-Jul-18</td>\n",
       "      <td>Black  Spot</td>\n",
       "      <td>Meh</td>\n",
       "      <td>0</td>\n",
       "      <td>3</td>\n",
       "    </tr>\n",
       "    <tr>\n",
       "      <th>1545</th>\n",
       "      <td>5</td>\n",
       "      <td>30-Jul-18</td>\n",
       "      <td>Black  Show</td>\n",
       "      <td>Fun</td>\n",
       "      <td>1</td>\n",
       "      <td>3</td>\n",
       "    </tr>\n",
       "    <tr>\n",
       "      <th>1849</th>\n",
       "      <td>5</td>\n",
       "      <td>28-Jul-18</td>\n",
       "      <td>Black  Plus</td>\n",
       "      <td>Fun</td>\n",
       "      <td>1</td>\n",
       "      <td>3</td>\n",
       "    </tr>\n",
       "  </tbody>\n",
       "</table>\n",
       "</div>"
      ],
      "text/plain": [
       "      rating       date    variation verified_reviews  feedback  length\n",
       "1200       2  28-Jul-18  Black  Spot              Meh         0       3\n",
       "1545       5  30-Jul-18  Black  Show              Fun         1       3\n",
       "1849       5  28-Jul-18  Black  Plus              Fun         1       3"
      ]
     },
     "execution_count": 37,
     "metadata": {},
     "output_type": "execute_result"
    }
   ],
   "source": [
    "dataset.query('length==\"3\"')"
   ]
  },
  {
   "cell_type": "code",
   "execution_count": 38,
   "metadata": {
    "ExecuteTime": {
     "end_time": "2021-03-18T13:28:14.245349Z",
     "start_time": "2021-03-18T13:28:14.238357Z"
    },
    "execution": {
     "iopub.execute_input": "2021-01-20T16:16:46.142332Z",
     "iopub.status.busy": "2021-01-20T16:16:46.140704Z",
     "iopub.status.idle": "2021-01-20T16:16:46.148325Z",
     "shell.execute_reply": "2021-01-20T16:16:46.149382Z"
    },
    "papermill": {
     "duration": 0.06751,
     "end_time": "2021-01-20T16:16:46.149566",
     "exception": false,
     "start_time": "2021-01-20T16:16:46.082056",
     "status": "completed"
    },
    "tags": []
   },
   "outputs": [],
   "source": [
    "%matplotlib inline"
   ]
  },
  {
   "cell_type": "code",
   "execution_count": 39,
   "metadata": {
    "ExecuteTime": {
     "end_time": "2021-03-18T13:28:17.656626Z",
     "start_time": "2021-03-18T13:28:16.828303Z"
    },
    "execution": {
     "iopub.execute_input": "2021-01-20T16:16:46.248888Z",
     "iopub.status.busy": "2021-01-20T16:16:46.247810Z",
     "iopub.status.idle": "2021-01-20T16:16:46.649955Z",
     "shell.execute_reply": "2021-01-20T16:16:46.650635Z"
    },
    "papermill": {
     "duration": 0.457963,
     "end_time": "2021-01-20T16:16:46.650798",
     "exception": false,
     "start_time": "2021-01-20T16:16:46.192835",
     "status": "completed"
    },
    "tags": []
   },
   "outputs": [
    {
     "data": {
      "text/plain": [
       "<matplotlib.axes._subplots.AxesSubplot at 0x1b402279a00>"
      ]
     },
     "execution_count": 39,
     "metadata": {},
     "output_type": "execute_result"
    },
    {
     "data": {
      "image/png": "[encoded data removed]",
      "text/plain": [
       "<Figure size 432x288 with 1 Axes>"
      ]
     },
     "metadata": {
      "needs_background": "light"
     },
     "output_type": "display_data"
    }
   ],
   "source": [
    "dataset['length'].plot(bins=50, kind='hist')"
   ]
  },
  {
   "cell_type": "markdown",
   "metadata": {
    "papermill": {
     "duration": 0.03933,
     "end_time": "2021-01-20T16:16:46.729305",
     "exception": false,
     "start_time": "2021-01-20T16:16:46.689975",
     "status": "completed"
    },
    "tags": []
   },
   "source": [
    "Majority of the reviews are reviews ranging between 0 and ~200 characters"
   ]
  },
  {
   "cell_type": "markdown",
   "metadata": {
    "papermill": {
     "duration": 0.043577,
     "end_time": "2021-01-20T16:16:46.812079",
     "exception": false,
     "start_time": "2021-01-20T16:16:46.768502",
     "status": "completed"
    },
    "tags": []
   },
   "source": [
    "Let's start with cleaning the texts and data preparation"
   ]
  },
  {
   "cell_type": "code",
   "execution_count": 44,
   "metadata": {
    "ExecuteTime": {
     "end_time": "2021-03-18T13:38:21.969936Z",
     "start_time": "2021-03-18T13:32:44.416985Z"
    },
    "execution": {
     "iopub.execute_input": "2021-01-20T16:16:46.902633Z",
     "iopub.status.busy": "2021-01-20T16:16:46.901611Z",
     "iopub.status.idle": "2021-01-20T16:17:03.020861Z",
     "shell.execute_reply": "2021-01-20T16:17:03.020068Z"
    },
    "papermill": {
     "duration": 16.162983,
     "end_time": "2021-01-20T16:17:03.020993",
     "exception": false,
     "start_time": "2021-01-20T16:16:46.858010",
     "status": "completed"
    },
    "tags": []
   },
   "outputs": [
    {
     "name": "stderr",
     "output_type": "stream",
     "text": [
      "[nltk_data] Downloading package wordnet to\n",
      "[nltk_data]     C:\\Users\\Dell\\AppData\\Roaming\\nltk_data...\n",
      "[nltk_data]   Unzipping corpora\\wordnet.zip.\n"
     ]
    }
   ],
   "source": [
    "# Cleaning the texts\n",
    "import re\n",
    "import nltk\n",
    "from nltk.corpus import stopwords\n",
    "from nltk.stem.porter import PorterStemmer\n",
    "from nltk.stem import WordNetLemmatizer \n",
    "nltk.download('wordnet')\n",
    "from wordcloud import WordCloud\n",
    "from nltk.tokenize import word_tokenize\n",
    "corpus=[]\n",
    "for i in range(0,3150):\n",
    "    \n",
    "    #replace non-letter with space\n",
    "    review = re.sub('[^a-zA-Z]', ' ', dataset['verified_reviews'][i] )\n",
    "    \n",
    "    #convert all to lower case\n",
    "    review=review.lower()\n",
    "    \n",
    "    #split\n",
    "    review=review.split()\n",
    "    \n",
    "    #stemming and Lemmanization\n",
    "    ps=PorterStemmer()\n",
    "    lm = WordNetLemmatizer()\n",
    "    \n",
    "    #review=[ps.stem(word) for word in review if not word in set(stopwords.words('english'))]\n",
    "    review = [lm.lemmatize(word) for word in review if word not in set(stopwords.words('english'))] \n",
    "    review=' '.join(review)\n",
    "    corpus.append(review)"
   ]
  },
  {
   "cell_type": "code",
   "execution_count": 45,
   "metadata": {
    "ExecuteTime": {
     "end_time": "2021-03-18T13:38:27.457569Z",
     "start_time": "2021-03-18T13:38:27.246656Z"
    },
    "execution": {
     "iopub.execute_input": "2021-01-20T16:17:03.136598Z",
     "iopub.status.busy": "2021-01-20T16:17:03.128813Z",
     "iopub.status.idle": "2021-01-20T16:17:03.148786Z",
     "shell.execute_reply": "2021-01-20T16:17:03.149305Z"
    },
    "papermill": {
     "duration": 0.086846,
     "end_time": "2021-01-20T16:17:03.149471",
     "exception": false,
     "start_time": "2021-01-20T16:17:03.062625",
     "status": "completed"
    },
    "tags": []
   },
   "outputs": [
    {
     "data": {
      "text/plain": [
       "['love echo',\n",
       " 'loved',\n",
       " 'sometimes playing game answer question correctly alexa say got wrong answer like able turn light away home',\n",
       " 'lot fun thing yr old learns dinosaur control light play game like category nice sound playing music well',\n",
       " 'music',\n",
       " 'received echo gift needed another bluetooth something play music easily accessible found smart speaker wait see else',\n",
       " 'without cellphone cannot use many feature ipad see use great alarm u r almost deaf hear alarm bedroom living room reason enough keep fun ask random question hear response seem smartbon politics yet',\n",
       " 'think th one purchased working getting one every room house really like feature offer specifily playing music echo controlling light throughout house',\n",
       " 'look great',\n",
       " 'love listened song heard since childhood get news weather information great',\n",
       " 'sent year old dad talk constantly',\n",
       " 'love learning knew thing eveyday still figuring everything work far easy use understand make laugh time',\n",
       " 'purchased mother knee problem give something trying come getting around fast like enjoys little big thing alexa play song time cook',\n",
       " 'love love love',\n",
       " 'expected',\n",
       " 'love wife hate',\n",
       " 'really happy purchase great speaker easy set',\n",
       " 'using alexa couple day lot fun new toy like new household member trying learn different featues benefit come',\n",
       " 'love size nd generation echo still need little improvement sound',\n",
       " 'liked original echo shorter greater fabric color choice miss volume ring top plus minus button big deal ring w comforting well like use standard usb charger port instead previous round pin guess sound seems work still answer alexa echo computer like',\n",
       " 'love echo good music sound playing alexa understands command difficult time find specific playlist song spotify good amazon music lacking major program',\n",
       " 'love alexa use play music play radio itunes play podcasts anypod set reminder listen flash briefing news weather every morning rely custom list like able voice control volume sure continue find new us sometimes bit frustrating alexa understand saying',\n",
       " 'set day still adding smart home device speaker great playing music like size stationed kitchen counter intrusive look',\n",
       " 'love play sleep sound immediately ask',\n",
       " 'got second unit bedroom expecting sound improved didnt really see difference overall big improvement st generation',\n",
       " 'amazing product',\n",
       " 'love echo easy operate load fun everything advertised use mainly play favorite tune test alexa knowledge',\n",
       " 'sound great love',\n",
       " 'fun item play get used using sometimes hard time answering question ask think better',\n",
       " 'like one',\n",
       " 'still learning capability far pretty pretty pretty good',\n",
       " 'like',\n",
       " 'work well need learning command unique owner user like alexa learn tasha birthday alexa learn definition fine etc great',\n",
       " 'speaker sound pretty good small setup pretty easy bought two reason rate followed instruction synching music unit know done correctly sync primary motivation purchasing multiple unit',\n",
       " 'device awesome',\n",
       " 'bought compare speaker quality first generation speaker like sound better ship daughter though like fact first generation chargeable base bought keep mobile need better sound',\n",
       " 'love echo still learning thing able follow instruction included package found great one u tube',\n",
       " 'speaker better st generation echo',\n",
       " 'thing way cool get one want cool',\n",
       " 'first digital assistant giving good review speaker really good cheap price prime day fun play used alarm clock going get first place ended echo go one definitely try like best number device connect purchase came smart plug connect lamp alexa turn light',\n",
       " 'husband like able use listen music wish knew capability',\n",
       " 'android would allow alexa connect fortunately sister apple cell hour tech support fixed glitch running',\n",
       " 'far good',\n",
       " 'tried play certain broadway show like camelot give ne group camelot',\n",
       " 'great',\n",
       " 'satisfied echo alexa control light family room wife listen jimmy buffet asking alexa',\n",
       " 'like siri fact siri answer accurately alexa see real need household though good bargain prime day deal',\n",
       " 'love echo still learning every thing work ton fun',\n",
       " 'love much',\n",
       " 'different apple play specific list music must amazon spotify plus prime etc account must pay play music star reason everything else',\n",
       " 'excelente lo unico e que esta en espa ol',\n",
       " 'still learning use far echo great sound actually much better expecting',\n",
       " 'work expect also good sound quality considering price sale feature',\n",
       " 'sound echo nd generation phenomenal mention love alexa helpful',\n",
       " 'like google better',\n",
       " 'let play learn get',\n",
       " 'work advertised easy setup still learning',\n",
       " 'great sound easy set',\n",
       " 'love alexa bought others friend',\n",
       " 'love echo purchased company husband alexa great say name tell joke play favorite song',\n",
       " '',\n",
       " 'love able listen music easily still learning feature available',\n",
       " 'really know could use device used thing need overview',\n",
       " 'love wish built hub',\n",
       " 'use primarily play music work wonderfully still getting used many thing amazon sent several tip since got thanks help',\n",
       " 'easy set',\n",
       " 'fast response amazing clear concise answer sound quality fantastic still getting used alexia usde echo full extent',\n",
       " 'need na na nana',\n",
       " 'everything expected',\n",
       " 'love echo work like said would smart home cannot speak function everything else good',\n",
       " 'great sound small package easy set use fun',\n",
       " 'work sound great',\n",
       " 'sound amazing many collection music',\n",
       " 'setting',\n",
       " 'always listen',\n",
       " 'awesome',\n",
       " 'bought control fios television work well hoping time control fios discovered thing alexa play music ask great sound alexa play game play radio station play old time radio program like long ranger alexa many apps add ability day played madlibs great fun also alexa control household appliance purchased alexa compatible power strip control lighting fan tv component looking forward implementing controll also add alexa component chosen music play room component located',\n",
       " 'speaker excellent sound work perfectly',\n",
       " 'like',\n",
       " 'love everything',\n",
       " 'little nervous received new echo really tech savvy found bit intimidating first take long figure happy purchase thinking adding echo spot',\n",
       " 'like still learning use',\n",
       " 'great technology believe speaker volume quality wonderful wish bought another one',\n",
       " 'purchased echo dot husband father day us constantly hearing quality sound echo nd generation brainer best gift ever',\n",
       " 'work fine',\n",
       " '',\n",
       " 'clear music',\n",
       " 'fun use good sound quality',\n",
       " 'echo work well able sync amazon music device',\n",
       " 'work great think amazon charge another cent unlimited music prime buy echo',\n",
       " 'already echo dot echo even better fuller sound also setup let phone call made contact list great',\n",
       " 'speaker sound really good',\n",
       " 'good sound work well',\n",
       " 'love alexa savvy support helpful patient',\n",
       " 'love thinking getting one prime day discount offered could pas fun ask alexa play song group come playlist amazon prime music also connect iphone bluetooth play music pandora youtube video using alexa speaker fun asking alexa different type question information like weather news even time country downside limited data wifi plan alexa us burn playing music',\n",
       " 'like far lot try yet',\n",
       " 'love using strictly music great',\n",
       " 'love echo love size material speaker quality hooked one light easily work additional light thermostat next echo dot bedroom lot echo think traffic weather trivia etc',\n",
       " 'love',\n",
       " 'entire family love alexa echo part family',\n",
       " 'great fun getting know function product wow family fun homework help talking grandchild also echo huge bonus wait learn',\n",
       " 'love',\n",
       " 'awesome thing love alexa',\n",
       " 'worked exactly expected speaker great sound perfect classroom',\n",
       " 'love love new little gadget made life much easier like personal secretary living home hardly need cd anymore since alexa play everything need going get alexa dot soon room thanks',\n",
       " 'speaker surprising quality happy purchase',\n",
       " 'easy set work wonderful love',\n",
       " 'really impressed sound quality playing music device bass sound almost like coming bigger speaker prop amazon',\n",
       " 'still great product sound quality seem worse get wrong definitely get used within hour definitely feel like echo gen sound quality better besides great addition able play bluetooth wifi even better',\n",
       " 'outlet work disappointed',\n",
       " 'great device responsive helpful',\n",
       " 'sound terrible u want good music get bose',\n",
       " 'liked sound troubling paid extra money access million song sometimes work ex alexa play italian song understand play opera tosca response sorry',\n",
       " 'easy set use bad plugged would nice take outside operate battery recharged',\n",
       " 'still learning way use real hit grandkids ask play music dance yr cute',\n",
       " 'star generally like product great ask like playing music setting timer making call reason rate sometimes connection dy echo stop playing music show red ring seems connection issue overall great product',\n",
       " 'work great upgraded echo dot full size echo happier',\n",
       " 'alexa else say',\n",
       " 'upgraded lilttle echo dot happy sound',\n",
       " 'excellent product set ease well',\n",
       " 'first gen echo since first came worked well purchased nd gen prime day far happy seems improved speaker provides enhanced sound music',\n",
       " 'love echo smart speaker love volume clarity easy set wonderful gift age',\n",
       " 'wonderful product fast delivery',\n",
       " 'initially harder set called tech knowledgeable working great',\n",
       " 'easy set family love',\n",
       " 'great sound responsive voice command',\n",
       " 'live long without echo get enjoy music style asking alexa going greade wireless love echo love alexa',\n",
       " 'cool product speaker sound good spotify blasting',\n",
       " 'much fun alexa love able listen music across room busy something else',\n",
       " 'far seems nice item pick voice understands without problem day asked turn music next room heard fine used listen music check weather done thing well',\n",
       " 'love echo',\n",
       " 'love helpful use remembering thing sleep ask anything week still learning',\n",
       " 'better st gen every way except one really miss ring top volume control quicker easier grab top twist without look button find one press time also wish bass bit better great device happy',\n",
       " 'love alexa',\n",
       " 'far like',\n",
       " 'thoroughly enjoying ecoo love read audiobook office simply open audiobook kindle continue elsewhere wonderful listening music mood book great setting reminder much',\n",
       " 'still love',\n",
       " 'love',\n",
       " 'love sound quality unit clear sound',\n",
       " 'listening talk radio morning turning light etc system excellent job full house sound system streaming sirius',\n",
       " 'week still learning alexa learning process love music call time listen podcasts radio station started keeping shopping list grocery list love search paper pencil getting time temperature great wait weather report sound good fussy woofer tweeter base etc echo fine afternoon going try dropping son get home going surprise',\n",
       " 'much feature',\n",
       " 'great sound quality great feature great product multi room music cool',\n",
       " 'cool',\n",
       " 'everyone echo two three bought echo qvc',\n",
       " 'annoying everything show alexa able downloaded spend much time trying figure phrase machine may well look',\n",
       " 'alexa since beginning accidentally spilled water replaced nd generation decided without echo setup easy working within minute',\n",
       " 'like able tell alexia music want hear sometimes trouble finding song specific title',\n",
       " 'like look better original echo moved old echo basement family room nice sound',\n",
       " 'echo wonderful still learning use music request somewhat limited',\n",
       " 'know half thing asked recognize sprinkler wifi controller even though product detail say compatible program change wifi thermostat setting matched wifi router handy music player amazon music',\n",
       " 'love',\n",
       " 'awesome understands kid',\n",
       " 'pleasantly surprised sound quality many feature nice easily hear particular artist hear book simple command looking forward exploring option device',\n",
       " 'met exceeded expectation easy set really quick response',\n",
       " 'like fact get kind music prime want request alexa liked informative photo little pamphlet wish included connect tv etc command alexa really love music',\n",
       " 'found way access echo thorough prime account think part top line video music etc also think setup app define example music like well integrated echo tried ask playlist echo sure even though set play list setting also like fact word exact match playlist name never remember like ready nature echo respond query',\n",
       " 'great item added audible book make even better thank',\n",
       " 'prime day nd gen echo sale resist beginning smart home set happier say alexa done amazing job connecting smart device thanks control light smart plug tv etc trouble connecting echo wifi phone app work perfectly fine let add skill routine smart device timer much sound quality good enough since audiophile alexa hear voice even watching movie high volume design great modern definitely add nice touch home change cover like sale overall great addition home enables many possibility yet sure add alexa home',\n",
       " 'versatile fun',\n",
       " 'work great killer speaker wife son love',\n",
       " 'regret waiting long purchase item surprised pleased sound quality',\n",
       " 'stopped working week follow command really fun working',\n",
       " 'far love working getting thing set love grocery list app',\n",
       " 'performs pretty much expected disappointed provide terminology need play various kind music without subscribing amazon music service understand music choice may limited without knowing ask cannot access music provided free along echo purchase chart showing language need use',\n",
       " 'easy set',\n",
       " 'like product except speaker high quality expected',\n",
       " 'great investment alexa helped made laugh',\n",
       " 'yet another exho home love',\n",
       " 'love plan gender music big band jazz easy find local radio sound good stop voice command get phone call',\n",
       " 'good value',\n",
       " 'super easy set loving new echo',\n",
       " 'whats like speaker ask alexa',\n",
       " 'best father day gift dad joked mom alexa one listening repeated story going forward',\n",
       " 'great addition breakfast room kitchen tune information instantly available slowly learning feature',\n",
       " 'sound quality',\n",
       " 'sad joke worthless',\n",
       " 'entertainment',\n",
       " 'good quality',\n",
       " 'work great sound great miss beat wish battery better portability',\n",
       " 'loved till someone stoled afford replace yet going',\n",
       " 'alexa rock',\n",
       " 'got gift love never would bought one allows play music amozon prime music worth also give new brief tell joke',\n",
       " '',\n",
       " 'mom bought echo dot repeated ask take one great told two day made take hour later could live life without amazing four large speaker small echo dot returning say going order alexa speaker go big get echo otherwise tou returning two echo dot live without',\n",
       " 'love great product',\n",
       " 'easy set user friendly',\n",
       " 'really disappointed alexa plug wall socket time fault checking made assumption company technologically advanced amazon would sell product rechargeable battery could return would apple music boom speaker give flexibility alexa',\n",
       " 'think nd gen sound good st aux could add external speaker going get dot nd issue unique unit understand override default prevents playing blue tooth speaker playing group get delay using bt speaker unit heard able play group using bt speaker',\n",
       " 'everything',\n",
       " 'like interaction asking question like ask setup schedule connected lamp',\n",
       " 'supberb sound definitely worth extra money listen lot music',\n",
       " 'really love amazon echo think sound quality great lot fun really handy music get update weather sport',\n",
       " 'love grandkids',\n",
       " 'far worked well always intuitive link different device skill getting hang',\n",
       " 'work advertised',\n",
       " 'love',\n",
       " 'love new addition house speaker quality great love alexa two complaint suggestion future series would better communication ability example smart light house unless specify kitchen light kitchen light prior command either respond say recognize may want alexa respond say thank afterwards repeat alexa thank time respond husband know sound odd laugh maybe southern thing want alexa manner',\n",
       " 'like everything music trivia game weather',\n",
       " 'described received time like automatic enrolment music',\n",
       " 'great device',\n",
       " 'owned echo overa year new lack easy way increase decrease volume without telling increase decrease volume hard wife since english second language born korea sound echo superb keep',\n",
       " 'love kitchen work well',\n",
       " 'nice impressed wish say though',\n",
       " 'love product nice easy access much info',\n",
       " 'got great sound bass work time still hot miss recognizes thing',\n",
       " 'still discovering echo',\n",
       " 'amazing paroduct',\n",
       " 'good hearing range sound quality bit complicated set quite understand lot even speaking slowly clearly love flash briefing feature interfacing abode home security system',\n",
       " 'speaker sound good',\n",
       " 'absolutely love',\n",
       " 'best part product control thermostat light house anything dislike',\n",
       " 'thoroughly enjoying amazon echo installation easy using alexa app purchased kasa smart plug control living room light installation easy using kasa app sinqued right echo enjoying playing music echo sound quality awesome added kasa smart bulb kitchen setup seamless looking forward adding automation home',\n",
       " 'home entertainment',\n",
       " 'cool product easy setup fun use sound quality much better anticipated',\n",
       " 'love great sound easy connect use',\n",
       " 'work fairly new smart tv mainly tv manufacturer lg fault due supporting anything older tv year smart lock also need additional piece equipment order connect well speaker sound great work well',\n",
       " 'great sound little speaker',\n",
       " 'enjoy',\n",
       " '',\n",
       " 'cool',\n",
       " 'good quality great sound quality',\n",
       " 'work perfectly',\n",
       " 'great product sometimes alexa understand command fire tv fabulous speaker',\n",
       " 'love echo great sound smart',\n",
       " 'sure love',\n",
       " 'play great',\n",
       " 'work absolutely great',\n",
       " 'amazing product great sound quality',\n",
       " 'best thing invested thank much',\n",
       " 'extremely impressed item bought warehouse outlet minor imperfection tell even one work great come packaging sealed damage missing anything like sound quality see knock bose great family easy use minor learning curve learns voice integrates seamlessly amazon service wait get classroom lot fun even speaker let alone plan',\n",
       " 'love echo show bedroom wonderful music info sleeping sound',\n",
       " 'awesome life changer seriously able start morning alexa wake alarm playing music gotten used voice another room listen say love echo hesitate get one price speaker unbelievable buying cordless holder take echo anywhere love purchase love alexa',\n",
       " 'super impressed alexa prime lapsed play anything smart enough differentiate among spotify account use either randomly speaks nobody talking today unplugged sure ever use alexa',\n",
       " 'like everything',\n",
       " 'liked',\n",
       " 'never issue buying use electronics long get good like new read comment see used',\n",
       " 'family really love new echo',\n",
       " 'bought wife love',\n",
       " 'fun got today pod go car use house',\n",
       " 'like',\n",
       " 'third echo worth every penny like household employee small flat rate keep bedroom living room drop use intercom listen music answer quick question alarm wake school etc',\n",
       " 'listen music set timer',\n",
       " 'received echo perfect condition device easy set responds quickly without issue alexa great addition family',\n",
       " 'good sound like music scheduling like get random thought recorded think joke cute',\n",
       " 'purchased beginning learn far pleased amazed different action perform enjoying looking forward learning option provides',\n",
       " 'echo great others even though smaller',\n",
       " 'funny buy something look fun wind totally useful part home loving',\n",
       " 'bought replace dot living room speaker slightly better hears better tv unfortunately understand respond request well dot frequently request time get want dot usually exactly want first request consider upgrade',\n",
       " 'good experience far second generation echo many thing learn time yet right mostly enjoying music weather update using alarm feature personality also purchased mini smart socket yes excited begin using',\n",
       " 'trouble connecting tv exactly tech smart sure one grandson figure far using mostly music',\n",
       " 'simply love echo hardly watch tv anymore busy listening music speaker pretty goo size fun skill really make echo fun whole family',\n",
       " 'enjoyed entire echo experience',\n",
       " 'easy set',\n",
       " 'echo amazing device many time seems intuitive time ask something seems clear simple get result installation fairly straightforward messed several time simply thought step complete actually made lose ground figured advice patient app let know move next step biggest issue moment several echo device home would like use intercom told done however make echo aware others existence ask alexa answer instruction change name know likely fault would think designer would anticipate make easier find needed instruction small deal many device savvy people challenge',\n",
       " 'loving much',\n",
       " 'original alexa tap far nd generation best happy see making improvement new one would great update little think would help lot bug happy play music throughout whole house adjust bass treble thank',\n",
       " 'pleased echo nd generation nice alexa available music weather news probably lot discovered',\n",
       " 'pleasantly surprised sound quality echo big fan deep bass might sufficient though potential control home option explore evolve home smart home voice recognition impressive stylish fun regret purchase great technically change people ask play song movie responds instantly elderly loved one would great gift connected wifi simple use want unlimited music control sure amazon prime premium spotify blown away personal dj even conversation echo embarrassed say echo made laugh couple time ask tell joke tell package since amazon prime addict come extremely handy',\n",
       " 'easy setup love thing',\n",
       " 'alexa throughout house future arrived',\n",
       " 'already alexa amazon find today could resist getting echo also best thing ever use side house happier',\n",
       " 'arrived expected',\n",
       " 'bought week ago everything product excellent forget buy charger ordering must take outside pool worry hiring electrician put outlet yard',\n",
       " 'terrific',\n",
       " 'love echo',\n",
       " 'smaller original look nicer',\n",
       " 'work great',\n",
       " 'husband would call late adopter come technology decide would try echo serve primarily music source wow amazed great sound also great time listening favorite song buy asking alexa may even buy one elderly dad think enjoy one listen music even place call u',\n",
       " 'really enjoyed changing directv channel play iheartradio pandora adjusts ac thermostat turn living room light outside light',\n",
       " 'wanting one bought prime day absolutely love',\n",
       " 'glad got echo bluetooth speaker alexa much stuff non smart speaker personally love timer feature helped cooking multiple thing simultaneously pandora integration another feature use daily happy prime day purchase get echo hub echo dot future',\n",
       " 'see subject line love',\n",
       " 'love',\n",
       " 'easy setup',\n",
       " 'hesitant buy echo echo dot seems good enough echo except sound quality really feel needed however glad got difference sound really far superior echo dot listen greatest showman little power',\n",
       " 'sound quality great still learning different thing fun',\n",
       " 'got good deal work great prime setup bit pain fault crappy internet service worked great nice sound small speaker',\n",
       " 'love',\n",
       " 'work great perfect office',\n",
       " 'love one inside house one pool good bose speaker around house',\n",
       " 'easy use amazing',\n",
       " 'nice product',\n",
       " 'love echo totally amazed speaker quality bummed buy two since got prime day',\n",
       " 'responsive great sound quality size',\n",
       " 'efficient amazing cool use often every day',\n",
       " 'impressed quality sound echo definitely comparable bose mini gave star use apple music account',\n",
       " 'technology small device price good sound amazing must feature home',\n",
       " 'mainly use music learning time really nothing bad say',\n",
       " 'replaced st gen concerned smaller unit sound wrong anything volume clear good product',\n",
       " 'great addition echo plus',\n",
       " 'best',\n",
       " 'love feature play music every room multiple echo',\n",
       " 'love alexa surprised much use',\n",
       " 'use product enjoyment love',\n",
       " 'easy use great sound great purchase great price',\n",
       " 'easy set issue',\n",
       " 'unit add much pleasure echo plus music information home one room',\n",
       " 'extremely useful simple thing like spotify audible thing like sometimes answer everything ask still nice use',\n",
       " 'difficult set keep timing enter password',\n",
       " 'getting use using echo used shopping list listening music timer working great far',\n",
       " 'cool lot fun used week still learning capability',\n",
       " 'love love',\n",
       " 'love hard time setting apps',\n",
       " 'use office another apartment music information',\n",
       " 'great music little hard figure work',\n",
       " 'given year time birthday gift dad love ask alexa anything answer plus good homework purchased one prime day bathroom getting ready work listen music base metro booming replacement clock radio plus echo dot night stand alarm clock',\n",
       " 'impressed look clarity sound color',\n",
       " 'alexa amazing great speaker',\n",
       " 'still getting used alexa connected tv yet thing right use music information great',\n",
       " 'work sound great house barely sf sitting kitchen counter hear speak room lot functionality still discover',\n",
       " 'pure fun echo weather joke news briefing music still much use lot fun money',\n",
       " 'use time especially communicate kid throughout home',\n",
       " 'love still learning make lot thing easier like forget turn light another room ask alexa turn light',\n",
       " 'bought daughter turned love especially like calling feature since cell phone love playing music dancing amazon music play favorite song sometimes lol',\n",
       " 'got wedding gift discovered feature yet update playing music great though',\n",
       " 'impressed sound quality',\n",
       " 'pleased purchase echo smart speaker love fact play music different genre whenever want trouble first wi fi working',\n",
       " 'wife enjoy ease playing music game fun entertaining look forward adding smart product home',\n",
       " 'second echo love help kitchen set timer listen news prepare grocery list get great music',\n",
       " 'sound quality good wish alexa could answer question',\n",
       " 'second echo dot speaker weak purchased listening music speaker great',\n",
       " 'great sound',\n",
       " 'great',\n",
       " 'really use speaker stream music month kinda useless',\n",
       " 'set user friendly set user friendly hoped alexa app able download pc without installing invasive driver wife retired able install alexa son supplying smart phone using alexa yet',\n",
       " 'easy set really enjoying',\n",
       " 'echo come built battery plugged time use make quite inconvenient',\n",
       " 'compact bit better original',\n",
       " 'love pretty cool',\n",
       " 'living room music sound really good living room hear upstairs',\n",
       " 'great product set easy sound wonderful',\n",
       " 'far like bought music though sound pretty good',\n",
       " 'love',\n",
       " 'love',\n",
       " 'glad bought',\n",
       " 'like type fun music',\n",
       " 'like volume top turn quickly',\n",
       " 'beyond capability program grandkids lve',\n",
       " 'love new echo give hour music help thing difficult set help tekkie',\n",
       " 'almost good bose love whole house music',\n",
       " 'alexa hardly came',\n",
       " 'easy setup using app also easy install phone sound quality listening music pandora wonderful',\n",
       " 'still learning use echo far love',\n",
       " 'work awesome',\n",
       " 'work great',\n",
       " 'small speaker sound great',\n",
       " 'great sound size prize course alexa',\n",
       " 'echo definitely need one',\n",
       " 'great device seems work better st generation',\n",
       " 'item longer work month use connect wifi unresponsive reset request',\n",
       " 'love echo dot easy fun get drop grandaughter life mile away sound like right next',\n",
       " 'work great different new one',\n",
       " 'one going kitchen timer music duty',\n",
       " 'love volume could definitely use boost better built speaker would definitively star thought ahead put audio auxiliary input bought dedicated speaker echo proved best way go',\n",
       " 'work fine',\n",
       " 'work great look brand new love new echo dot getting main room house',\n",
       " 'refurbished item work like new love easy set love issue volume listening relaxing fine expecting anything else recommend purchasing speaker',\n",
       " 'loud',\n",
       " 'nd one love',\n",
       " 'sure feel echo dot many thing need get used ask right question understand',\n",
       " 'thing barely work select rd party apps stuff think could box sending mine back asap waste money',\n",
       " 'gift man like plug picture show cord would prefer cordless still work though purpose bought',\n",
       " 'th amazon echo device purchased refurbished satisfied time different tell brand new price cheaper echo wake u keep timer play music u act encyclopedia turn light much',\n",
       " 'small echo dot amazing sound come great change nest thermostat phillips hue light without leaving chair',\n",
       " 'talk time song dislike device',\n",
       " 'never disappointed amazon technology',\n",
       " 'worked promised',\n",
       " 'returned echo dot getting refund returned one package want refund package see',\n",
       " 'working',\n",
       " 'weird pause speech pattern present echo device',\n",
       " 'sure love alexa lol thank great price product',\n",
       " 'work',\n",
       " 'echo fan one work',\n",
       " '',\n",
       " 'bought bathroom listen shower love',\n",
       " 'always respond spoken promp word thought would connect echo upstairs use like intercom able',\n",
       " 'fast shipping work well',\n",
       " 'love',\n",
       " 'love love love new free assistant',\n",
       " 'six word alexa tell poop joke',\n",
       " 'worked month stopped tried everything try make work nothing working want refund',\n",
       " 'poor quality gave away',\n",
       " 'refurbished way go echo work like new',\n",
       " 'love',\n",
       " 'five need say',\n",
       " 'speaker arent loud alexa great though besides naw',\n",
       " 'work great sound good',\n",
       " 'never could get work techie friend looked said adapter strong enough power looked like bought dollar store going replace adapter hope work',\n",
       " 'almost like star trek home fun try outsmart',\n",
       " 'add echo system refurbished product work like new',\n",
       " 'great office use daily many way include spelling background music',\n",
       " 'awesome love alexa',\n",
       " 'sure really wanted one extremely useful get one love',\n",
       " 'initially echo dot worked well time dot stopped responding alexa unless within one foot yelling echo echo dot room would respond without response echo dot would recommend buying refurbished',\n",
       " 'great product fast shipping',\n",
       " 'bought echo dot refurbished stop whatever function performing quite often wake every time randomly turn nothing buy refurbished echo dot',\n",
       " 'perfect work great problem refurbished',\n",
       " 'dont trust',\n",
       " 'perfect condition love echo',\n",
       " 'love beautiful experience especially hooked smart lighting accessory',\n",
       " 'got within last couple week tell issue son wanted alexa th birthday could tell joke could ask question listen music enjoy one much bought second one week prime deal day',\n",
       " 'divertido',\n",
       " 'great product work great',\n",
       " 'bought guest room radio alarm clock information center much',\n",
       " 'great buy bought go echo love speaker best music work great kitchen timer alarm',\n",
       " '',\n",
       " 'work perfect save buck buy refurbished look brand new',\n",
       " 'look work perfect glad got good deal',\n",
       " 'good new one bought le',\n",
       " 'love work well',\n",
       " 'everything perfect',\n",
       " 'good price prompt shipping working flawlessly',\n",
       " 'love alexa',\n",
       " 'room improvement price cannot complain much still complain however audio terrible kind like listening speak n spell',\n",
       " 'iove bought son wanted awesome',\n",
       " 'echo work price great deal issue dot speaker bit tinny good second unit like attach external speaker sound good buy',\n",
       " 'thanks',\n",
       " 'wanted use radio intercom get terrible fm reception live speech recognition software horrible wife native american whose language english north texas neither accent birth area yet good job understanding u bought two thing additionally wifi reception poor marginal buy wifi range extender office ten foot router problem switched around difference disconnected dust collector',\n",
       " 'third dot work perfectly use one multiple time day absolutely love',\n",
       " 'item never worked box broken spent several day trying get working running fix amazon thing accomplished never order another refurbished device',\n",
       " 'already echo plus bought one bedroom love function',\n",
       " 'simple set music everywhere',\n",
       " 'worked like brand new dot satisfied',\n",
       " 'great product returning new alexa dot refurbished already giving problem connection',\n",
       " 'echo already went one refurbished save buck work great love new generation one rubber bottom nice',\n",
       " 'love fact unplug take basement want laundry',\n",
       " 'refurbished good new one bought',\n",
       " 'good new',\n",
       " 'granddaughter love',\n",
       " 'price great trouble hearing across room moving another spot seems working fine buy want every room',\n",
       " 'set alexa blue tooth speaker enjoy listening music outdoors wait try new stuff using alexa',\n",
       " 'thanks',\n",
       " 'work great',\n",
       " 'never buy certified refurbished echo dot bought certified refurbished echo dot unit poor receiving command sometimes even acknowledge command never buy refurbished echo dot unit received probably never certified refurbished indicated also bought new echo dot work perfectly disappointed',\n",
       " 'started amazon productsand regret nothing absolutely great journey product continue improve day day life',\n",
       " 'used several month without problem',\n",
       " 'first smart device surely buying device compatible one',\n",
       " 'love',\n",
       " 'love good new one',\n",
       " 'larger echo time love bought one another portion house since several wifi home device wanted voice control house',\n",
       " 'love product use turn light answer quick question',\n",
       " 'great buy',\n",
       " 'leary refurbished work great',\n",
       " 'puny sound work great',\n",
       " 'great',\n",
       " 'exactly like new tell difference new dot got prior one work perfectly love alexa',\n",
       " 'work perfect wear tear device love alexa working making home smart',\n",
       " 'work good',\n",
       " 'thing like shuts work great',\n",
       " 'excellent product mint condition refurbished unit would never know refurbished',\n",
       " 'already owning couple echo frustrated also use intercom finally amazon enables drop feature use echo reach family remote part house teenager insist never heard yelling come dinner feature mainly use echo standard stuff playing music setting alarm answering question etc life changing home device amazon would believe convenient around refurb saved buck look work brand new one',\n",
       " 'love worried refurbished part first first echo awesome used everything light since work night shopping well spotify planning getting parent help everyday thing take granted young would recommend everyone',\n",
       " 'love alexa hope every room soon',\n",
       " 'simplicity use setting',\n",
       " 'great got one gazebo one upstairs',\n",
       " 'work great never issue',\n",
       " 'everything asked',\n",
       " 'work great good sound',\n",
       " 'use echo listen music well sort research tool answer variety question would like volume could go little bit louder complain also believe internal power source order use echo must plugged time using universal charging cord would nice use echo dot go without buy product',\n",
       " 'love great fun',\n",
       " 'love',\n",
       " 'outstanding use time work like say',\n",
       " 'saving always nice son always say buying refurbished mean getting new device product le run diagnostics everything corrected',\n",
       " 'work perfectly alexa turn light tv roomba',\n",
       " 'never would know refurbished',\n",
       " 'far good',\n",
       " 'look performs new complaint',\n",
       " 'go great echo',\n",
       " 'work great like new one already',\n",
       " 'item work certified refurbished mean work advertised instead item crashed soon turned plugged trying connect phone echo dot crashed would disconnect orange light would freeze thing would reboot blue light alexa would tell ready connect freeze mid sentence tried holding action button second anything returning immediately hope actually fix item next buyer purchase',\n",
       " 'fast service got ordered thank',\n",
       " 'love even though still trying figure thing item work great phone',\n",
       " 'none',\n",
       " 'echo one bought brand new refurbished one honestly tell difference performance look',\n",
       " 'great product learned work thing awesome',\n",
       " 'work',\n",
       " 'work time',\n",
       " 'love though wish portable',\n",
       " 'course',\n",
       " 'could tell refurbished work excellent would highly recommended instead purchasing new',\n",
       " 'got mom love',\n",
       " 'love echo dot look brand new work perfect satisfied',\n",
       " 'new',\n",
       " 'small problem box rep amazon called walked reset process solved issue shocked get response quickly real effort made including follow email get thing working one google clone use learn like also plan install one car boat garage alexa new best friend lol think gf worried alexa learns cook time limited',\n",
       " 'love alexa dot play game son ask weather love work amazon fire tv',\n",
       " 'like could ask different question different thing work intermittently smart tv ask change volume sometimes ask change channel sometimes reset know refurbished okay expected',\n",
       " 'far certified refurbished echo dot work well little confusing green ring echo dot know asked alexa said receiving call drop case took minute figure notification delivery amazon believe ring supposed yellow pulsate message notification refurbished echo dot green pulsed',\n",
       " 'arrived quickly easy set refurbished amazon echo dot beyond expected alexa become buddy great assistant',\n",
       " 'work advertised speak clearly research command also get wall holder keep way set breeze make sure close device initially connecting phone reason made set easier though could psychological haha',\n",
       " 'love two echo dot third one ordered give gift defective speaker return process still done already taken week',\n",
       " 'already returned',\n",
       " 'refurbished echo wonderful purchased mother love ability contact without phone listen music weather ask question wonderful gift work excellently problem',\n",
       " 'work good however price went week purchased',\n",
       " 'work amazingly bought daughter love',\n",
       " 'love alexa great helping making appointment playing song like else looking forward',\n",
       " 'got bathroom love listen music whe showering',\n",
       " 'dot original new one work perfectly buy future dot reconditioned',\n",
       " 'little hard get pare others problem',\n",
       " 'weary picking conversation actively using heard happening news concerning wish amazon would release something widespread push firmware prevent heard yet',\n",
       " 'really dislike alexa dot thought cortna cool alexa awesome application family unbelievable device seems alive must get',\n",
       " 'happy refurbished echo dot two week far working perfectly even though come original box look like new happy purchase',\n",
       " 'thumb',\n",
       " 'workreat',\n",
       " 'something wrong first one even rep spoke could fix replacement registered someone else price dot went price refurbished one bought brand spanking new one problem new one',\n",
       " 'work expected',\n",
       " 'problem',\n",
       " 'almost every room really enjoyed work perfectly',\n",
       " 'purchased grandson',\n",
       " 'like new',\n",
       " 'happy ordered',\n",
       " 'love dot especially ability talk one really convenient issue refurbished like new',\n",
       " 'started taking used since unplugged day one talking daughter laying bed next started going movie moana completely scared sh daughter',\n",
       " 'work great speaker sound fine overall would recommend',\n",
       " 'great like new',\n",
       " 'loved price essentially brand new dot opening really tell refurbished everything looked brand new le new unit consider better deal really love versatility echo dot get one',\n",
       " 'pleased order wanted',\n",
       " 'think throughout house convenient set timer check weather whatever wherever',\n",
       " 'love best experience refurbished device excellent',\n",
       " 'love echo dot',\n",
       " 'refurbished item fine aware fee echo set room however missing cordthank',\n",
       " 'two week setting longer work connection light sound guess purchased refurbished dot',\n",
       " 'worked like brandnew unit great addition collection',\n",
       " 'great price work perfectly saved money refurb would buy',\n",
       " '',\n",
       " 'god',\n",
       " 'good',\n",
       " 'great bought one bought another right away grab smart switched set smart home capability highly recommended',\n",
       " 'like new',\n",
       " 'worked still need figure link device though set sonos pretty easy product fault time figure',\n",
       " 'useful',\n",
       " 'worst amazon purchase made big amazon fan love brand unlimited digital music prime video even buy online game music movie amazon app tried use make simple purchase anything useless',\n",
       " 'work well microphone pick well full size echo audio quality okay size',\n",
       " 'bought two refurbished one work home work perfectly appear brand new',\n",
       " 'amazon disappoint',\n",
       " 'work great bt receiver output connected vintage stereo equipment',\n",
       " 'working great far tell new edit longevity year real test',\n",
       " 'amazing',\n",
       " 'love everything',\n",
       " 'used dot work fine compliment echo',\n",
       " 'work like new one tell difference new one bough refurbished one',\n",
       " 'well big fan echo one went bathroom work great expected',\n",
       " 'purchased year old mother love talking alexa responsive detect name room',\n",
       " 'like new performance brand new one problem',\n",
       " 'echo dot disconnect speaker time day buy refurbished product star effort',\n",
       " 'love great product',\n",
       " 'work good satisfied',\n",
       " 'love alexa sound dot best echo nd gen kitchen living room got bedroom significant difference sound dot lack full base sound sound coming cheap portable speaker really disappointed returned right away shelled money buy second echo bedroom also',\n",
       " 'took awhile get connected electronically savy love',\n",
       " 'cant seem get thing sink wireless sure returning try one time',\n",
       " 'absolutely love',\n",
       " 'product stopped working return time ran',\n",
       " 'second dot work great refurbishedthought new',\n",
       " 'love guy work great',\n",
       " 'love second alexa bedroom great checking weather meditation music timer perfect husband use eye drop multiple time day keep eye closed minute',\n",
       " 'purchased refurbished work like brand new minute set easy echo dot command start playing music backyard deck sound system',\n",
       " 'substitute original echo dot performs well sound quality poor listen highest level',\n",
       " 'love echo dot help husband get netflix apps amazon fire tv problem refurbished planning getting another one amazon fire stick bedroom',\n",
       " 'stopped working month warranty good month would assumed amazon product sold amazon would higher standard guaranteeing would work whole month mean product supposed piece junk offered discount wanted buy another one would want buy another one',\n",
       " 'like new problem whatsoever alexa thank',\n",
       " 'like uncle sometime go little haywire',\n",
       " 'bought son work return',\n",
       " 'bought quit connecting wifi responding voice within month hard soft reset fix problem',\n",
       " 'received echo dot today good condition advised paid amazon writing raised price research buying get good deal set dot went simple enough plug follow app instruction except initially took actually show iphone wifi setting called amazon customer service dunno lately getting terrible support guy took call rambled completely unhelpful script ended setting dot middle spiel sure norm refurbished dot pretty finicky wifi range randomly disconnect even though app show range ghz connection strong reconnecting pain time well said alexa work work amazingly well speaker hooked one thing really enjoy mic range sensitivity one annoying limitation apple siri playing audio device speaker music podcasts etc hey siri feature useless alexa problem hearing whatever playing time amazingly fast responsiveness tried louder speaker yet sure continue hold true setting alexa control wireless device breeze albeit limitation support arlo device nil special setting led device eg rainbow effect alexa handle know change solid color brightness level rating would lower gotten decent price item connectivity problem persist may exchange return item want though alexa kind growing',\n",
       " 'bought everyone saying much love need used volume loud enough played music treadmill rather use tower speaker x louder',\n",
       " 'worked like new',\n",
       " 'second one refurbished model work least home',\n",
       " 'bad device know refurbished activated nobody talking activated start talking talk yell super lauded',\n",
       " 'good new like brand new save money get one',\n",
       " 'adding room convenience',\n",
       " 'nice work good time easy recognize voice repeat several time time almost screaming',\n",
       " 'took chance certified refurbished unit look brand new excuse disappointment minute trouble free set effortless bluetooth speaker connectivity alexa app iphone flawless listening favorite tune bose bluetooth setup happier walk door ask alexa play music viola instant atmosphere opening ipad going setting turning bluetooth accessing pandora app make thing effortless true joy right box discover us fine piece technology worth every penny',\n",
       " 'alexa sister second dot',\n",
       " 'love alexa echo dot two one new one refurbished work great become go sooo many thing love alarm every morning whenever love play music sound ocean nature sound trying sleep love many thing',\n",
       " 'bought refurb work new one bought prior came original packaging well',\n",
       " 'love like second wife',\n",
       " 'far impressed save group correctly understand time sure excitement alexas voice sound like water supposed understand going return try google home',\n",
       " 'work well obvious issue refurbished',\n",
       " 'work great tell refurbished set kid mode home adding love thing',\n",
       " 'great product useless overall many unnecessary feature unless smart home need',\n",
       " 'worked good two new echo dot preciously purchase',\n",
       " 'bought mother love love guard dog feature say give sense security night leaf house',\n",
       " 'bought mainly speaker playing music video phone working read instruction working',\n",
       " 'work',\n",
       " 'bought two work great much electronics running home alexa want need done',\n",
       " 'nd one come',\n",
       " 'blue light blink time',\n",
       " 'fun useful still learning new trick useful functionality future human computer interface household automation like star trek knew would soon',\n",
       " 'work great control tv light various device lately using wake know time want open eye shout alexa time could figure get house hold chore walk dog golden sound great size expect echo plus much better audio get larger expensive echo',\n",
       " 'work great',\n",
       " 'sure like product little want one every room daughter constantly asking alexa spell word barely tapped thing product capable looking forward learning capability',\n",
       " '',\n",
       " 'great product work well',\n",
       " 'absolutly love',\n",
       " 'bought first echo dot loved got work absolutely love',\n",
       " 'work promised',\n",
       " 'work great existing smart home setup',\n",
       " 'perfect could tell difference new one',\n",
       " 'cant figure use',\n",
       " 'good sometimes hear well',\n",
       " 'little apprehensive buying refurbished electronic product amazon guarantee thought would try glad probably buy another refurb product form amazon love alexa product several one sits desk small footprint great sound use daily work great',\n",
       " 'bad bad speaker sound',\n",
       " 'great device mainly use verbally add thing shopping list occasionally use number fun thing program like go red alert make tardis land yes house geek even chose wake word computer instead alexa need majel barret voice geek heaven easy get premium spotify work properly still sure get multiple music account attached listen different music different room far still worth often asking time weather even give u news briefing also use intercom system really awesome plus fun knowing nsa listening everything',\n",
       " 'love',\n",
       " 'purchased daughter love amazing love game',\n",
       " 'always work',\n",
       " 'good new perfectly packaged zero issue dot',\n",
       " 'love bought granddaughter play music ask question entertained hour good buy honest opinion',\n",
       " 'issue work look great',\n",
       " 'fun toy daughter read',\n",
       " 'refurbish echo dot received new condition new packaging complaint neat little gadget drive wife nut',\n",
       " 'received echo gift loved much decided get dot bedroom easy set big difference sound quality would still buy',\n",
       " 'worked advertised thanks',\n",
       " 'new amazon product great everything bought refurbished complete garbage never purchase amazon refurbished total dissatisfaction',\n",
       " 'work good microphone good better echo product',\n",
       " 'took little work set finally got sound quality best got work great check weather ask cooking question kitchen play radio want music probably upgrade echo plus better sound',\n",
       " 'love alexa best thing ever bought know ever lived thing amazing happy product wish would use google',\n",
       " 'loved work great',\n",
       " 'extremely low volume',\n",
       " 'trouble getting program downloaded phone ended using computer interesting answer come wikipedia however give echo dot music playing department heard song music totally forgotten mainstream station also amusing alexa responds know think yard cotton fabric refer football playing paid full price gadget would sorely disappointed seems reasonable step hal',\n",
       " 'brought replace one moved range previous non refurbished unit would seldom able find wi fi connect got tired hearing message trouble connecting check alexa app unplugged went troubleshooting reconnected several time strong',\n",
       " 'want listen music come several echo dot unit simultaneously must pay monthly fee thought amazon apple paid many could one room enough money',\n",
       " 'purchased gift',\n",
       " 'love',\n",
       " 'overall good device bought workout room issue reaching volume heard standard row machine could use much better speaker',\n",
       " 'work great simple set alexa way accurate imagined im using thought wish alarm could set bit thats complaint listening say wake word worried lose conspiracy theory speaker great hold getting one turned gen like',\n",
       " 'voice clarity made eavesdropping effort much easier government',\n",
       " 'worked perfect',\n",
       " 'little trouble beginning replaced old router work good except current temperature time alexa much degree like degree alexa would say degree otherwise everything work expected enjoy listening music amazon pandora station requesting favorite song recording artist',\n",
       " 'bought three three worked flawlessly labeled refurbished known',\n",
       " 'device work perfectly good price love alexa great fun music great get radio station need morning traffic report think would enjoy ai house fun educational entertaining even people tech savvy',\n",
       " 'eh work half time respond say wake name work fine',\n",
       " 'great little thing work better siri',\n",
       " 'amazing love',\n",
       " 'bought son love',\n",
       " 'first second generation echo dot think prefer volume ring first gen better button second gen still job great price got still definitely recommend',\n",
       " 'fun use morning briefing',\n",
       " 'arrived time work amazing',\n",
       " 'like new set quick easy',\n",
       " 'like new good refurbishing',\n",
       " 'love',\n",
       " 'love echo dot',\n",
       " 'like know music type least wireless volume high',\n",
       " 'great product',\n",
       " 'work great reason leaving star wont play unless plugged whole time pretty irritating especially outlet available',\n",
       " 'work great',\n",
       " 'love ita like personal assistant computer everything else one',\n",
       " 'problem item could inexperience ordered wrong thing decided set use alexa trying replace small bluetooth speaker bedroom thought could learn go downloaded app never could get echo sync iphone decided give one kid probably enjoy use intended',\n",
       " 'e perfecto',\n",
       " 'working good far',\n",
       " 'working great daughter love',\n",
       " 'work great',\n",
       " 'love',\n",
       " 'wanted white dot white bathroom top black shown knew realize cord plug also black wanted white cord plug',\n",
       " '',\n",
       " 'work great',\n",
       " 'amazing',\n",
       " 'great product',\n",
       " 'work perfectly',\n",
       " 'perfect',\n",
       " 'set echo dot worked hour died completely buy refurbished sent back return day received',\n",
       " 'echo dot horrible volume phone louder device bos one case',\n",
       " 'overall work well connectivity issue definitely worth money',\n",
       " 'issue refurbished unit performed expected would buy another one needed',\n",
       " 'great mom inside owlhead jacuzzi',\n",
       " 'work great put son room use drop option get attention gaming watching tv',\n",
       " 'perfect',\n",
       " 'looked brand nrw nothing complain defently ordering',\n",
       " 'ok speaker pretty terrible google home better product',\n",
       " 'love',\n",
       " 'love answer stupid question tell weather get couch',\n",
       " 'first one quit working shortly got next one becomes unresponsive voice time way get work app sure dot way',\n",
       " 'bought go niece room tell refurbished look good work like new',\n",
       " 'device working followed instruction alexa echo dot come upsetting',\n",
       " 'sent back due crackling noise turning expect refurbished item',\n",
       " 'best price could find useful around answer question handy find phone also intercom system',\n",
       " 'never satisfied product perfect introduction alexa',\n",
       " 'work well speaker grand getting another speaker drop future would gone full size echo',\n",
       " 'love echo thing full size version sound better though',\n",
       " 'work great',\n",
       " 'need life plan time date music',\n",
       " 'seems trouble hearing say wake word despite trained voice wonder something buying refurbished google home mini problem hearing u much louder',\n",
       " 'love work perfectly',\n",
       " 'brand new echo dot thought refurbished would good quite different expectation refurbished unit even turn realized power adapter faulty way amazon send power adapter according return option love amazon buy even toilet paper truly let update amazon contacted credited enough buy new power adapter shop amazon always trust deliver product',\n",
       " 'bought family member gift called see like said love',\n",
       " 'loud quality ease use great sound perfect background music would suggest connected together trying use hosting louder party',\n",
       " 'looked brand new work great love echo dot refurbished one like new',\n",
       " 'nd one use time',\n",
       " 'working like new one l another alexa device lm fanatic',\n",
       " 'echo good',\n",
       " 'work great',\n",
       " 'great price extend range super value dot offer hooked wireless speaker use working outside dot made outdoor sound range possible without disturbing indoor light control possible',\n",
       " 'amazingly fun daughter asked question first day set daily alarm weekend reminder playlist morning show random song daily bible verse weather morning commute tell way go dodging traffic get one linked phone yet',\n",
       " 'work perfect difference refurb one new one house buying refurbs',\n",
       " 'great product wake every morning time',\n",
       " 'like new difference new unused original',\n",
       " 'complaint far know exactly like new little cheaper great',\n",
       " 'perfect condition',\n",
       " 'like new',\n",
       " 'work well new version got discount echo speaker decided purchase version amazon state warranty',\n",
       " 'received echo gift needed another bluetooth something play music easily accessible found smart speaker wait see else',\n",
       " 'without cellphone cannot use many feature ipad see use great alarm u r almost deaf hear alarm bedroom living room reason enough keep fun ask random question hear response seem smartbon politics yet',\n",
       " 'think th one purchased working getting one every room house really like feature offer specifily playing music echo controlling light throughout house',\n",
       " 'look great',\n",
       " 'love listened song heard since childhood get news weather information great',\n",
       " 'sent year old dad talk constantly',\n",
       " 'love learning knew thing eveyday still figuring everything work far easy use understand make laugh time',\n",
       " 'purchased mother knee problem give something trying come getting around fast like enjoys little big thing alexa play song time cook',\n",
       " 'love love love',\n",
       " 'expected',\n",
       " 'love wife hate',\n",
       " 'really happy purchase great speaker easy set',\n",
       " 'using alexa couple day lot fun new toy like new household member trying learn different featues benefit come',\n",
       " 'love size nd generation echo still need little improvement sound',\n",
       " 'liked original echo shorter greater fabric color choice miss volume ring top plus minus button big deal ring w comforting well like use standard usb charger port instead previous round pin guess sound seems work still answer alexa echo computer like',\n",
       " 'love echo good music sound playing alexa understands command difficult time find specific playlist song spotify good amazon music lacking major program',\n",
       " 'love alexa use play music play radio itunes play podcasts anypod set reminder listen flash briefing news weather every morning rely custom list like able voice control volume sure continue find new us sometimes bit frustrating alexa understand saying',\n",
       " 'set day still adding smart home device speaker great playing music like size stationed kitchen counter intrusive look',\n",
       " 'love play sleep sound immediately ask',\n",
       " 'got second unit bedroom expecting sound improved didnt really see difference overall big improvement st generation',\n",
       " 'amazing product',\n",
       " 'love echo easy operate load fun everything advertised use mainly play favorite tune test alexa knowledge',\n",
       " 'sound great love',\n",
       " 'fun item play get used using sometimes hard time answering question ask think better',\n",
       " 'like one',\n",
       " 'still learning capability far pretty pretty pretty good',\n",
       " 'like',\n",
       " 'work well need learning command unique owner user like alexa learn tasha birthday alexa learn definition fine etc great',\n",
       " 'speaker sound pretty good small setup pretty easy bought two reason rate followed instruction synching music unit know done correctly sync primary motivation purchasing multiple unit',\n",
       " 'device awesome',\n",
       " 'bought compare speaker quality first generation speaker like sound better ship daughter though like fact first generation chargeable base bought keep mobile need better sound',\n",
       " 'love echo still learning thing able follow instruction included package found great one u tube',\n",
       " 'speaker better st generation echo',\n",
       " 'thing way cool get one want cool',\n",
       " 'first digital assistant giving good review speaker really good cheap price prime day fun play used alarm clock going get first place ended echo go one definitely try like best number device connect purchase came smart plug connect lamp alexa turn light',\n",
       " 'husband like able use listen music wish knew capability',\n",
       " 'android would allow alexa connect fortunately sister apple cell hour tech support fixed glitch running',\n",
       " 'far good',\n",
       " 'tried play certain broadway show like camelot give ne group camelot',\n",
       " 'great',\n",
       " 'satisfied echo alexa control light family room wife listen jimmy buffet asking alexa',\n",
       " 'like siri fact siri answer accurately alexa see real need household though good bargain prime day deal',\n",
       " 'love echo still learning every thing work ton fun',\n",
       " 'love much',\n",
       " 'different apple play specific list music must amazon spotify plus prime etc account must pay play music star reason everything else',\n",
       " 'excelente lo unico e que esta en espa ol',\n",
       " 'still learning use far echo great sound actually much better expecting',\n",
       " 'work expect also good sound quality considering price sale feature',\n",
       " 'sound echo nd generation phenomenal mention love alexa helpful',\n",
       " 'like google better',\n",
       " 'let play learn get',\n",
       " 'work advertised easy setup still learning',\n",
       " 'great sound easy set',\n",
       " 'love alexa bought others friend',\n",
       " 'love echo purchased company husband alexa great say name tell joke play favorite song',\n",
       " '',\n",
       " 'love able listen music easily still learning feature available',\n",
       " 'really know could use device used thing need overview',\n",
       " 'love wish built hub',\n",
       " 'use primarily play music work wonderfully still getting used many thing amazon sent several tip since got thanks help',\n",
       " 'easy set',\n",
       " 'fast response amazing clear concise answer sound quality fantastic still getting used alexia usde echo full extent',\n",
       " 'need na na nana',\n",
       " 'everything expected',\n",
       " 'love echo work like said would smart home cannot speak function everything else good',\n",
       " 'great sound small package easy set use fun',\n",
       " 'work sound great',\n",
       " 'sound amazing many collection music',\n",
       " 'setting',\n",
       " 'always listen',\n",
       " 'awesome',\n",
       " 'bought control fios television work well hoping time control fios discovered thing alexa play music ask great sound alexa play game play radio station play old time radio program like long ranger alexa many apps add ability day played madlibs great fun also alexa control household appliance purchased alexa compatible power strip control lighting fan tv component looking forward implementing controll also add alexa component chosen music play room component located',\n",
       " 'speaker excellent sound work perfectly',\n",
       " 'like',\n",
       " 'love everything',\n",
       " 'little nervous received new echo really tech savvy found bit intimidating first take long figure happy purchase thinking adding echo spot',\n",
       " 'like still learning use',\n",
       " 'great technology believe speaker volume quality wonderful wish bought another one',\n",
       " 'purchased echo dot husband father day us constantly hearing quality sound echo nd generation brainer best gift ever',\n",
       " 'work fine',\n",
       " '',\n",
       " 'clear music',\n",
       " 'fun use good sound quality',\n",
       " 'echo work well able sync amazon music device',\n",
       " 'work great think amazon charge another cent unlimited music prime buy echo',\n",
       " 'already echo dot echo even better fuller sound also setup let phone call made contact list great',\n",
       " 'speaker sound really good',\n",
       " 'good sound work well',\n",
       " 'love alexa savvy support helpful patient',\n",
       " 'love thinking getting one prime day discount offered could pas fun ask alexa play song group come playlist amazon prime music also connect iphone bluetooth play music pandora youtube video using alexa speaker fun asking alexa different type question information like weather news even time country downside limited data wifi plan alexa us burn playing music',\n",
       " 'like far lot try yet',\n",
       " 'love using strictly music great',\n",
       " 'love echo love size material speaker quality hooked one light easily work additional light thermostat next echo dot bedroom lot echo think traffic weather trivia etc',\n",
       " 'love',\n",
       " 'entire family love alexa echo part family',\n",
       " 'great fun getting know function product wow family fun homework help talking grandchild also echo huge bonus wait learn',\n",
       " 'love',\n",
       " 'awesome thing love alexa',\n",
       " 'worked exactly expected speaker great sound perfect classroom',\n",
       " 'love love new little gadget made life much easier like personal secretary living home hardly need cd anymore since alexa play everything need going get alexa dot soon room thanks',\n",
       " 'speaker surprising quality happy purchase',\n",
       " 'easy set work wonderful love',\n",
       " 'really impressed sound quality playing music device bass sound almost like coming bigger speaker prop amazon',\n",
       " 'still great product sound quality seem worse get wrong definitely get used within hour definitely feel like echo gen sound quality better besides great addition able play bluetooth wifi even better',\n",
       " 'outlet work disappointed',\n",
       " 'great device responsive helpful',\n",
       " 'sound terrible u want good music get bose',\n",
       " 'liked sound troubling paid extra money access million song sometimes work ex alexa play italian song understand play opera tosca response sorry',\n",
       " 'easy set use bad plugged would nice take outside operate battery recharged',\n",
       " 'still learning way use real hit grandkids ask play music dance yr cute',\n",
       " 'star generally like product great ask like playing music setting timer making call reason rate sometimes connection dy echo stop playing music show red ring seems connection issue overall great product',\n",
       " 'work great upgraded echo dot full size echo happier',\n",
       " 'alexa else say',\n",
       " 'upgraded lilttle echo dot happy sound',\n",
       " 'excellent product set ease well',\n",
       " 'first gen echo since first came worked well purchased nd gen prime day far happy seems improved speaker provides enhanced sound music',\n",
       " 'love echo smart speaker love volume clarity easy set wonderful gift age',\n",
       " 'wonderful product fast delivery',\n",
       " 'initially harder set called tech knowledgeable working great',\n",
       " 'easy set family love',\n",
       " 'great sound responsive voice command',\n",
       " 'live long without echo get enjoy music style asking alexa going greade wireless love echo love alexa',\n",
       " 'cool product speaker sound good spotify blasting',\n",
       " 'much fun alexa love able listen music across room busy something else',\n",
       " 'far seems nice item pick voice understands without problem day asked turn music next room heard fine used listen music check weather done thing well',\n",
       " 'love echo',\n",
       " 'love helpful use remembering thing sleep ask anything week still learning',\n",
       " 'better st gen every way except one really miss ring top volume control quicker easier grab top twist without look button find one press time also wish bass bit better great device happy',\n",
       " 'love alexa',\n",
       " 'far like',\n",
       " 'thoroughly enjoying ecoo love read audiobook office simply open audiobook kindle continue elsewhere wonderful listening music mood book great setting reminder much',\n",
       " 'still love',\n",
       " 'love',\n",
       " 'love sound quality unit clear sound',\n",
       " 'listening talk radio morning turning light etc system excellent job full house sound system streaming sirius',\n",
       " 'week still learning alexa learning process love music call time listen podcasts radio station started keeping shopping list grocery list love search paper pencil getting time temperature great wait weather report sound good fussy woofer tweeter base etc echo fine afternoon going try dropping son get home going surprise',\n",
       " 'much feature',\n",
       " 'great sound quality great feature great product multi room music cool',\n",
       " 'cool',\n",
       " 'everyone echo two three bought echo qvc',\n",
       " 'annoying everything show alexa able downloaded spend much time trying figure phrase machine may well look',\n",
       " 'alexa since beginning accidentally spilled water replaced nd generation decided without echo setup easy working within minute',\n",
       " 'like able tell alexia music want hear sometimes trouble finding song specific title',\n",
       " 'like look better original echo moved old echo basement family room nice sound',\n",
       " 'echo wonderful still learning use music request somewhat limited',\n",
       " 'know half thing asked recognize sprinkler wifi controller even though product detail say compatible program change wifi thermostat setting matched wifi router handy music player amazon music',\n",
       " 'love',\n",
       " 'awesome understands kid',\n",
       " 'pleasantly surprised sound quality many feature nice easily hear particular artist hear book simple command looking forward exploring option device',\n",
       " 'met exceeded expectation easy set really quick response',\n",
       " 'like fact get kind music prime want request alexa liked informative photo little pamphlet wish included connect tv etc command alexa really love music',\n",
       " 'found way access echo thorough prime account think part top line video music etc also think setup app define example music like well integrated echo tried ask playlist echo sure even though set play list setting also like fact word exact match playlist name never remember like ready nature echo respond query',\n",
       " 'great item added audible book make even better thank',\n",
       " 'prime day nd gen echo sale resist beginning smart home set happier say alexa done amazing job connecting smart device thanks control light smart plug tv etc trouble connecting echo wifi phone app work perfectly fine let add skill routine smart device timer much sound quality good enough since audiophile alexa hear voice even watching movie high volume design great modern definitely add nice touch home change cover like sale overall great addition home enables many possibility yet sure add alexa home',\n",
       " 'versatile fun',\n",
       " 'work great killer speaker wife son love',\n",
       " 'regret waiting long purchase item surprised pleased sound quality',\n",
       " 'stopped working week follow command really fun working',\n",
       " 'far love working getting thing set love grocery list app',\n",
       " 'performs pretty much expected disappointed provide terminology need play various kind music without subscribing amazon music service understand music choice may limited without knowing ask cannot access music provided free along echo purchase chart showing language need use',\n",
       " 'easy set',\n",
       " 'like product except speaker high quality expected',\n",
       " 'great investment alexa helped made laugh',\n",
       " 'yet another exho home love',\n",
       " 'love plan gender music big band jazz easy find local radio sound good stop voice command get phone call',\n",
       " 'good value',\n",
       " 'super easy set loving new echo',\n",
       " 'whats like speaker ask alexa',\n",
       " 'best father day gift dad joked mom alexa one listening repeated story going forward',\n",
       " 'great addition breakfast room kitchen tune information instantly available slowly learning feature',\n",
       " 'sound quality',\n",
       " 'sad joke worthless',\n",
       " 'entertainment',\n",
       " 'good quality',\n",
       " 'work great sound great miss beat wish battery better portability',\n",
       " 'loved till someone stoled afford replace yet going',\n",
       " 'alexa rock',\n",
       " 'got gift love never would bought one allows play music amozon prime music worth also give new brief tell joke',\n",
       " '',\n",
       " 'mom bought echo dot repeated ask take one great told two day made take hour later could live life without amazing four large speaker small echo dot returning say going order alexa speaker go big get echo otherwise tou returning two echo dot live without',\n",
       " 'love great product',\n",
       " 'easy set user friendly',\n",
       " 'really disappointed alexa plug wall socket time fault checking made assumption company technologically advanced amazon would sell product rechargeable battery could return would apple music boom speaker give flexibility alexa',\n",
       " 'think nd gen sound good st aux could add external speaker going get dot nd issue unique unit understand override default prevents playing blue tooth speaker playing group get delay using bt speaker unit heard able play group using bt speaker',\n",
       " 'everything',\n",
       " 'like interaction asking question like ask setup schedule connected lamp',\n",
       " 'supberb sound definitely worth extra money listen lot music',\n",
       " 'really love amazon echo think sound quality great lot fun really handy music get update weather sport',\n",
       " 'love grandkids',\n",
       " 'far worked well always intuitive link different device skill getting hang',\n",
       " 'work advertised',\n",
       " 'love',\n",
       " 'love new addition house speaker quality great love alexa two complaint suggestion future series would better communication ability example smart light house unless specify kitchen light kitchen light prior command either respond say recognize may want alexa respond say thank afterwards repeat alexa thank time respond husband know sound odd laugh maybe southern thing want alexa manner',\n",
       " 'like everything music trivia game weather',\n",
       " 'described received time like automatic enrolment music',\n",
       " 'great device',\n",
       " 'owned echo overa year new lack easy way increase decrease volume without telling increase decrease volume hard wife since english second language born korea sound echo superb keep',\n",
       " 'love kitchen work well',\n",
       " 'nice impressed wish say though',\n",
       " 'love product nice easy access much info',\n",
       " 'got great sound bass work time still hot miss recognizes thing',\n",
       " 'still discovering echo',\n",
       " 'amazing paroduct',\n",
       " 'good hearing range sound quality bit complicated set quite understand lot even speaking slowly clearly love flash briefing feature interfacing abode home security system',\n",
       " 'speaker sound good',\n",
       " 'absolutely love',\n",
       " 'best part product control thermostat light house anything dislike',\n",
       " 'thoroughly enjoying amazon echo installation easy using alexa app purchased kasa smart plug control living room light installation easy using kasa app sinqued right echo enjoying playing music echo sound quality awesome added kasa smart bulb kitchen setup seamless looking forward adding automation home',\n",
       " 'home entertainment',\n",
       " 'cool product easy setup fun use sound quality much better anticipated',\n",
       " 'love great sound easy connect use',\n",
       " 'work fairly new smart tv mainly tv manufacturer lg fault due supporting anything older tv year smart lock also need additional piece equipment order connect well speaker sound great work well',\n",
       " 'great sound little speaker',\n",
       " 'enjoy',\n",
       " '',\n",
       " 'cool',\n",
       " 'good quality great sound quality',\n",
       " 'work perfectly',\n",
       " 'great product sometimes alexa understand command fire tv fabulous speaker',\n",
       " 'love echo great sound smart',\n",
       " 'sure love',\n",
       " 'play great',\n",
       " 'work absolutely great',\n",
       " 'amazing product great sound quality',\n",
       " 'best thing invested thank much',\n",
       " 'extremely impressed item bought warehouse outlet minor imperfection tell even one work great come packaging sealed damage missing anything like sound quality see knock bose great family easy use minor learning curve learns voice integrates seamlessly amazon service wait get classroom lot fun even speaker let alone plan',\n",
       " 'love echo show bedroom wonderful music info sleeping sound',\n",
       " 'awesome life changer seriously able start morning alexa wake alarm playing music gotten used voice another room listen say love echo hesitate get one price speaker unbelievable buying cordless holder take echo anywhere love purchase love alexa',\n",
       " 'super impressed alexa prime lapsed play anything smart enough differentiate among spotify account use either randomly speaks nobody talking today unplugged sure ever use alexa',\n",
       " 'like everything',\n",
       " 'liked',\n",
       " 'never issue buying use electronics long get good like new read comment see used',\n",
       " 'family really love new echo',\n",
       " 'bought wife love',\n",
       " 'fun got today pod go car use house',\n",
       " 'like',\n",
       " 'third echo worth every penny like household employee small flat rate keep bedroom living room drop use intercom listen music answer quick question alarm wake school etc',\n",
       " 'listen music set timer',\n",
       " 'received echo perfect condition device easy set responds quickly without issue alexa great addition family',\n",
       " 'good sound like music scheduling like get random thought recorded think joke cute',\n",
       " 'purchased beginning learn far pleased amazed different action perform enjoying looking forward learning option provides',\n",
       " 'echo great others even though smaller',\n",
       " 'funny buy something look fun wind totally useful part home loving',\n",
       " 'bought replace dot living room speaker slightly better hears better tv unfortunately understand respond request well dot frequently request time get want dot usually exactly want first request consider upgrade',\n",
       " 'good experience far second generation echo many thing learn time yet right mostly enjoying music weather update using alarm feature personality also purchased mini smart socket yes excited begin using',\n",
       " 'trouble connecting tv exactly tech smart sure one grandson figure far using mostly music',\n",
       " 'simply love echo hardly watch tv anymore busy listening music speaker pretty goo size fun skill really make echo fun whole family',\n",
       " 'enjoyed entire echo experience',\n",
       " 'easy set',\n",
       " 'echo amazing device many time seems intuitive time ask something seems clear simple get result installation fairly straightforward messed several time simply thought step complete actually made lose ground figured advice patient app let know move next step biggest issue moment several echo device home would like use intercom told done however make echo aware others existence ask alexa answer instruction change name know likely fault would think designer would anticipate make easier find needed instruction small deal many device savvy people challenge',\n",
       " 'loving much',\n",
       " 'original alexa tap far nd generation best happy see making improvement new one would great update little think would help lot bug happy play music throughout whole house adjust bass treble thank',\n",
       " 'pleased echo nd generation nice alexa available music weather news probably lot discovered',\n",
       " 'pleasantly surprised sound quality echo big fan deep bass might sufficient though potential control home option explore evolve home smart home voice recognition impressive stylish fun regret purchase great technically change people ask play song movie responds instantly elderly loved one would great gift connected wifi simple use want unlimited music control sure amazon prime premium spotify blown away personal dj even conversation echo embarrassed say echo made laugh couple time ask tell joke tell package since amazon prime addict come extremely handy',\n",
       " 'easy setup love thing',\n",
       " 'alexa throughout house future arrived',\n",
       " 'already alexa amazon find today could resist getting echo also best thing ever use side house happier',\n",
       " 'arrived expected',\n",
       " 'bought week ago everything product excellent forget buy charger ordering must take outside pool worry hiring electrician put outlet yard',\n",
       " 'terrific',\n",
       " 'love echo',\n",
       " 'smaller original look nicer',\n",
       " 'work great',\n",
       " 'husband would call late adopter come technology decide would try echo serve primarily music source wow amazed great sound also great time listening favorite song buy asking alexa may even buy one elderly dad think enjoy one listen music even place call u',\n",
       " 'really enjoyed changing directv channel play iheartradio pandora adjusts ac thermostat turn living room light outside light',\n",
       " 'wanting one bought prime day absolutely love',\n",
       " 'glad got echo bluetooth speaker alexa much stuff non smart speaker personally love timer feature helped cooking multiple thing simultaneously pandora integration another feature use daily happy prime day purchase get echo hub echo dot future',\n",
       " 'see subject line love',\n",
       " 'love',\n",
       " 'easy setup',\n",
       " 'hesitant buy echo echo dot seems good enough echo except sound quality really feel needed however glad got difference sound really far superior echo dot listen greatest showman little power',\n",
       " 'sound quality great still learning different thing fun',\n",
       " 'got good deal work great prime setup bit pain fault crappy internet service worked great nice sound small speaker',\n",
       " 'love',\n",
       " 'work great perfect office',\n",
       " 'love one inside house one pool good bose speaker around house',\n",
       " 'easy use amazing',\n",
       " 'nice product',\n",
       " 'love echo totally amazed speaker quality bummed buy two since got prime day',\n",
       " 'responsive great sound quality size',\n",
       " 'efficient amazing cool use often every day',\n",
       " 'impressed quality sound echo definitely comparable bose mini gave star use apple music account',\n",
       " 'technology small device price good sound amazing must feature home',\n",
       " 'mainly use music learning time really nothing bad say',\n",
       " 'replaced st gen concerned smaller unit sound wrong anything volume clear good product',\n",
       " 'great addition echo plus',\n",
       " 'best',\n",
       " 'love feature play music every room multiple echo',\n",
       " 'love alexa surprised much use',\n",
       " 'use product enjoyment love',\n",
       " 'easy use great sound great purchase great price',\n",
       " 'easy set issue',\n",
       " 'unit add much pleasure echo plus music information home one room',\n",
       " 'extremely useful simple thing like spotify audible thing like sometimes answer everything ask still nice use',\n",
       " 'difficult set keep timing enter password',\n",
       " 'getting use using echo used shopping list listening music timer working great far',\n",
       " 'cool lot fun used week still learning capability',\n",
       " 'love love',\n",
       " 'love hard time setting apps',\n",
       " 'use office another apartment music information',\n",
       " ...]"
      ]
     },
     "execution_count": 45,
     "metadata": {},
     "output_type": "execute_result"
    }
   ],
   "source": [
    "corpus"
   ]
  },
  {
   "cell_type": "code",
   "execution_count": 46,
   "metadata": {
    "ExecuteTime": {
     "end_time": "2021-03-18T13:38:39.698167Z",
     "start_time": "2021-03-18T13:38:39.369662Z"
    },
    "execution": {
     "iopub.execute_input": "2021-01-20T16:17:03.285738Z",
     "iopub.status.busy": "2021-01-20T16:17:03.275212Z",
     "iopub.status.idle": "2021-01-20T16:17:03.354472Z",
     "shell.execute_reply": "2021-01-20T16:17:03.353742Z"
    },
    "papermill": {
     "duration": 0.16264,
     "end_time": "2021-01-20T16:17:03.354591",
     "exception": false,
     "start_time": "2021-01-20T16:17:03.191951",
     "status": "completed"
    },
    "tags": []
   },
   "outputs": [],
   "source": [
    "#creating Bag of Words\n",
    "from sklearn.feature_extraction.text import CountVectorizer\n",
    "cv=CountVectorizer(max_features=1500)\n",
    "X=cv.fit_transform(corpus).toarray()\n",
    "y=dataset.iloc[:,4].values"
   ]
  },
  {
   "cell_type": "code",
   "execution_count": 47,
   "metadata": {
    "ExecuteTime": {
     "end_time": "2021-03-18T13:38:43.032478Z",
     "start_time": "2021-03-18T13:38:43.025487Z"
    },
    "execution": {
     "iopub.execute_input": "2021-01-20T16:17:03.447140Z",
     "iopub.status.busy": "2021-01-20T16:17:03.446149Z",
     "iopub.status.idle": "2021-01-20T16:17:03.452118Z",
     "shell.execute_reply": "2021-01-20T16:17:03.450635Z"
    },
    "papermill": {
     "duration": 0.055489,
     "end_time": "2021-01-20T16:17:03.452306",
     "exception": false,
     "start_time": "2021-01-20T16:17:03.396817",
     "status": "completed"
    },
    "tags": []
   },
   "outputs": [
    {
     "name": "stdout",
     "output_type": "stream",
     "text": [
      "['ability', 'able', 'absolutely', 'ac', 'accent', 'access', 'account', 'across', 'act', 'action', 'activated', 'actually', 'ad', 'adapter', 'add', 'added', 'addict', 'addicted', 'adding', 'addition', 'additional', 'adequate', 'adjust', 'advanced', 'advantage', 'advertised', 'advertisement', 'advertising', 'advise', 'age', 'ago', 'ai', 'al', 'alarm', 'alert', 'alex', 'alexa', 'alexi', 'alexia', 'allow', 'allows', 'almost', 'alone', 'along', 'already', 'also', 'alternative', 'although', 'always', 'amazed', 'amazing', 'amazingly', 'amazon', 'american', 'amount', 'android', 'annoying', 'another', 'answer', 'answered', 'answering', 'anticipated', 'anymore', 'anyone', 'anypod', 'anything', 'anytime', 'anywhere', 'apartment', 'app', 'apparently', 'appear', 'appears', 'apple', 'appliance', 'application', 'appointment', 'apps', 'area', 'arlo', 'around', 'arrived', 'artist', 'ask', 'asked', 'asking', 'asleep', 'aspect', 'assistant', 'attached', 'attempt', 'attention', 'attractive', 'audible', 'audio', 'audiobook', 'audiophile', 'automatic', 'automation', 'auxiliary', 'availability', 'available', 'aware', 'away', 'awesome', 'awful', 'awhile', 'back', 'background', 'bad', 'bar', 'barely', 'bargain', 'base', 'based', 'basement', 'basic', 'basically', 'bass', 'bathroom', 'battery', 'beat', 'beautiful', 'beautifully', 'become', 'bed', 'bedroom', 'bedside', 'begin', 'beginning', 'behind', 'believe', 'benefit', 'besides', 'best', 'beta', 'better', 'beyond', 'bible', 'big', 'bigger', 'biggest', 'bill', 'birthday', 'bit', 'black', 'blast', 'blind', 'blue', 'bluetooth', 'bolt', 'bonus', 'book', 'boom', 'bose', 'bother', 'bottom', 'bought', 'box', 'brand', 'breeze', 'bridge', 'brief', 'briefing', 'brightness', 'bring', 'bringing', 'brought', 'bt', 'buck', 'buffering', 'bug', 'built', 'bulb', 'busy', 'button', 'buy', 'buyer', 'buying', 'cable', 'calendar', 'call', 'called', 'calling', 'cam', 'came', 'camelot', 'camera', 'cancel', 'cannot', 'cant', 'capability', 'capable', 'car', 'card', 'case', 'cd', 'ceiling', 'cell', 'cent', 'center', 'certain', 'certified', 'challenge', 'chance', 'change', 'changing', 'channel', 'charge', 'charger', 'charm', 'chat', 'cheap', 'cheaper', 'check', 'checking', 'child', 'choice', 'choose', 'chose', 'chromecast', 'clarity', 'classical', 'classroom', 'clean', 'cleaning', 'clear', 'clearly', 'clock', 'close', 'cloud', 'cnn', 'collection', 'college', 'color', 'com', 'combined', 'come', 'comfort', 'comfortable', 'coming', 'command', 'comment', 'common', 'communicate', 'communicating', 'communication', 'commute', 'compact', 'companion', 'company', 'comparable', 'compared', 'compatible', 'complain', 'complaint', 'complete', 'completely', 'component', 'computer', 'con', 'concept', 'concern', 'concerned', 'condition', 'confused', 'confusing', 'connect', 'connected', 'connecting', 'connection', 'connectivity', 'connects', 'consider', 'considering', 'constantly', 'contact', 'contacted', 'content', 'continue', 'continuously', 'control', 'controlled', 'controller', 'controlling', 'convenience', 'convenient', 'conversation', 'convinced', 'cook', 'cooking', 'cool', 'coolest', 'cord', 'cordless', 'correct', 'correctly', 'cost', 'could', 'counter', 'country', 'couple', 'course', 'cover', 'cozi', 'crap', 'create', 'created', 'creepy', 'current', 'currently', 'curve', 'custom', 'customer', 'customizable', 'customization', 'cut', 'cute', 'cutting', 'cycle', 'dad', 'daily', 'damage', 'dark', 'data', 'date', 'daughter', 'day', 'de', 'deaf', 'deal', 'debating', 'decent', 'decide', 'decided', 'deck', 'decor', 'decrease', 'dedicated', 'deep', 'default', 'defective', 'definitely', 'degree', 'delay', 'delete', 'deliver', 'delivered', 'delivery', 'den', 'dependable', 'described', 'design', 'desk', 'despite', 'detail', 'device', 'didnt', 'difference', 'different', 'difficult', 'difficulty', 'digital', 'dim', 'dims', 'direct', 'direction', 'directly', 'directv', 'disappoint', 'disappointed', 'disappointing', 'disappointment', 'disconnect', 'discount', 'discover', 'discovered', 'discovering', 'discovery', 'dislike', 'dismiss', 'display', 'distance', 'dog', 'dollar', 'done', 'dont', 'door', 'doorbell', 'dot', 'download', 'downloaded', 'downside', 'downstairs', 'drawback', 'driven', 'drop', 'dropped', 'dropping', 'due', 'dumb', 'dumber', 'ease', 'easier', 'easily', 'easy', 'echo', 'eeaanh', 'effective', 'efficient', 'effort', 'eh', 'either', 'el', 'elderly', 'electronics', 'else', 'elsewhere', 'email', 'en', 'enabled', 'enables', 'end', 'ended', 'engine', 'english', 'enjoy', 'enjoyable', 'enjoyed', 'enjoying', 'enjoyment', 'enjoys', 'enough', 'entering', 'entertaining', 'entertainment', 'entire', 'equipment', 'error', 'espa', 'especially', 'essentially', 'etc', 'even', 'event', 'ever', 'every', 'everyday', 'everyone', 'everything', 'everywhere', 'exact', 'exactly', 'example', 'exceeded', 'excelente', 'excellent', 'except', 'exchange', 'excited', 'excitement', 'expect', 'expectation', 'expected', 'expecting', 'expensive', 'experience', 'explore', 'exploring', 'extended', 'extent', 'external', 'extra', 'extremely', 'eye', 'fabric', 'fabulous', 'face', 'facetime', 'fact', 'fairly', 'fall', 'falling', 'family', 'fan', 'fantastic', 'far', 'fast', 'father', 'fault', 'favorite', 'feature', 'fee', 'feel', 'felt', 'fi', 'fidelity', 'figure', 'figured', 'figuring', 'fill', 'finally', 'find', 'finding', 'fine', 'fios', 'fire', 'firestick', 'firmware', 'first', 'fit', 'five', 'fix', 'fixed', 'fixture', 'flash', 'flaw', 'flawlessly', 'flickering', 'floor', 'follow', 'followed', 'foot', 'footprint', 'force', 'forever', 'forget', 'form', 'forward', 'found', 'four', 'fourth', 'free', 'freeze', 'frequently', 'friend', 'friendly', 'front', 'frustrating', 'full', 'fully', 'fun', 'function', 'functionality', 'funny', 'future', 'gadget', 'galaxy', 'game', 'garbage', 'gave', 'gb', 'geek', 'gen', 'general', 'generation', 'genre', 'get', 'getting', 'ghz', 'gift', 'give', 'given', 'giving', 'glad', 'glitch', 'glorified', 'go', 'god', 'going', 'gone', 'good', 'google', 'got', 'gotten', 'grab', 'grand', 'grandchild', 'grandkids', 'grandmother', 'grandson', 'great', 'greater', 'greatest', 'gripe', 'grocery', 'group', 'guess', 'guest', 'guy', 'haha', 'half', 'hand', 'handy', 'happened', 'happens', 'happier', 'happy', 'hard', 'harder', 'hardly', 'hate', 'havent', 'hear', 'heard', 'hearing', 'hears', 'hell', 'help', 'helped', 'helpful', 'helping', 'hesitant', 'hey', 'high', 'higher', 'highly', 'hit', 'hold', 'holder', 'home', 'homescreen', 'homework', 'honestly', 'hook', 'hooked', 'hope', 'hoped', 'hopefully', 'hoping', 'horrible', 'hot', 'hotel', 'hour', 'house', 'household', 'however', 'hub', 'hue', 'huge', 'hulu', 'human', 'husband', 'idea', 'iheartradio', 'im', 'image', 'imagine', 'immediately', 'important', 'impressed', 'impressive', 'improve', 'improved', 'improvement', 'improving', 'impulse', 'include', 'included', 'including', 'inconvenient', 'increase', 'inexpensive', 'info', 'information', 'informative', 'initially', 'inside', 'install', 'installation', 'installed', 'installing', 'instant', 'instantly', 'instead', 'instruction', 'integrated', 'integration', 'intelligent', 'intended', 'interact', 'interaction', 'intercom', 'interesting', 'interface', 'interference', 'internet', 'intrusive', 'intuitive', 'invasive', 'ipad', 'iphone', 'irritating', 'isolated', 'issue', 'item', 'itunes', 'jack', 'jazz', 'job', 'joke', 'jumped', 'kasa', 'keep', 'keeping', 'kept', 'kick', 'kid', 'kind', 'kinda', 'kindle', 'kitchen', 'knew', 'know', 'knowing', 'knowledge', 'known', 'la', 'lack', 'lacking', 'lag', 'lamp', 'language', 'large', 'larger', 'last', 'lastly', 'late', 'later', 'laugh', 'law', 'le', 'learn', 'learned', 'learning', 'learns', 'least', 'leave', 'leaving', 'left', 'let', 'level', 'library', 'life', 'light', 'lightbulb', 'lighting', 'like', 'liked', 'likely', 'liking', 'limitation', 'limited', 'line', 'link', 'linked', 'linking', 'list', 'listen', 'listening', 'listens', 'literally', 'literate', 'little', 'live', 'lived', 'living', 'load', 'local', 'location', 'lock', 'lol', 'long', 'longer', 'look', 'looked', 'looking', 'lose', 'lot', 'loud', 'louder', 'love', 'loved', 'loving', 'low', 'lower', 'luv', 'lyric', 'machine', 'made', 'mainly', 'major', 'make', 'making', 'man', 'manage', 'management', 'manual', 'manufacturer', 'many', 'market', 'massive', 'material', 'matter', 'may', 'maybe', 'mean', 'meditation', 'medium', 'meh', 'member', 'membership', 'memory', 'mention', 'menu', 'message', 'met', 'mic', 'microphone', 'middle', 'might', 'million', 'mind', 'mine', 'mini', 'minor', 'minute', 'miss', 'missing', 'mixed', 'mobile', 'mode', 'model', 'mom', 'moment', 'money', 'month', 'mood', 'morning', 'mostly', 'mother', 'motown', 'move', 'moved', 'movie', 'much', 'muffled', 'multiple', 'music', 'must', 'na', 'name', 'named', 'natural', 'nature', 'navigate', 'nd', 'near', 'nearly', 'neat', 'need', 'needed', 'negative', 'neither', 'nest', 'net', 'netflix', 'network', 'never', 'new', 'newest', 'news', 'next', 'nice', 'nicer', 'night', 'nightstand', 'nobody', 'noise', 'non', 'none', 'nope', 'normal', 'note', 'nothing', 'notification', 'npr', 'number', 'numerous', 'obvious', 'occasionally', 'offer', 'offered', 'office', 'often', 'oh', 'ok', 'okay', 'ol', 'old', 'older', 'omg', 'one', 'online', 'open', 'opening', 'operate', 'opinion', 'option', 'order', 'ordered', 'ordering', 'organized', 'original', 'others', 'otherwise', 'outlet', 'outside', 'outstanding', 'overall', 'owned', 'owner', 'package', 'packaging', 'page', 'paid', 'pain', 'pair', 'paired', 'pandora', 'paper', 'parent', 'part', 'particular', 'party', 'pas', 'password', 'past', 'patient', 'patio', 'pause', 'pay', 'paying', 'penny', 'people', 'perfect', 'perfectly', 'perform', 'performs', 'perhaps', 'period', 'person', 'personal', 'personally', 'phenomenal', 'philip', 'phillips', 'phone', 'photo', 'phrase', 'pick', 'picked', 'picking', 'picture', 'piece', 'place', 'placed', 'plan', 'planning', 'platform', 'play', 'played', 'player', 'playing', 'playlist', 'pleasantly', 'please', 'pleased', 'pleasure', 'plenty', 'plug', 'plugged', 'plus', 'podcasts', 'point', 'pointless', 'politics', 'pool', 'poor', 'port', 'portable', 'positive', 'possibility', 'possible', 'potential', 'power', 'powerful', 'practical', 'prefer', 'premium', 'present', 'press', 'pretty', 'previous', 'previously', 'price', 'primarily', 'primary', 'prime', 'print', 'prior', 'privacy', 'pro', 'probably', 'problem', 'process', 'product', 'program', 'programmed', 'project', 'prompt', 'properly', 'proved', 'provide', 'provided', 'provider', 'provides', 'pull', 'purchase', 'purchased', 'purchasing', 'purpose', 'put', 'quality', 'que', 'query', 'question', 'quick', 'quicker', 'quickly', 'quite', 'radio', 'rain', 'ran', 'random', 'randomly', 'range', 'rarely', 'rate', 'rather', 'rd', 'reach', 'read', 'reading', 'ready', 'real', 'realize', 'realized', 'really', 'reason', 'receive', 'received', 'receiver', 'recently', 'rechargeable', 'recipe', 'recognition', 'recognize', 'recognizes', 'recommend', 'recommended', 'reconnecting', 'recorded', 'recording', 'red', 'refund', 'refurb', 'refurbished', 'regret', 'regular', 'related', 'remember', 'reminder', 'reminds', 'remote', 'rent', 'repair', 'repeat', 'repeated', 'replace', 'replaced', 'replacement', 'report', 'request', 'requesting', 'requires', 'research', 'reset', 'resist', 'resolution', 'respond', 'responding', 'responds', 'response', 'responsive', 'rest', 'restart', 'result', 'return', 'returned', 'returning', 'review', 'rid', 'right', 'ring', 'rock', 'roku', 'room', 'rotate', 'round', 'router', 'routine', 'run', 'running', 'sad', 'said', 'sale', 'salsa', 'satisfied', 'save', 'saving', 'savvy', 'saw', 'say', 'saying', 'scared', 'schedule', 'scheduling', 'school', 'screen', 'scroll', 'scrolling', 'se', 'seamless', 'seamlessly', 'search', 'searching', 'second', 'secretary', 'security', 'see', 'seeing', 'seem', 'seemed', 'seems', 'selection', 'send', 'sending', 'sense', 'sensitive', 'sent', 'separate', 'seriously', 'serve', 'service', 'set', 'setting', 'setup', 'several', 'shape', 'shine', 'ship', 'shipping', 'shop', 'shopping', 'short', 'shout', 'show', 'showering', 'showing', 'shut', 'side', 'sign', 'silly', 'simple', 'simpler', 'simply', 'simultaneously', 'since', 'sing', 'single', 'siri', 'sister', 'site', 'sits', 'sitting', 'six', 'size', 'sized', 'skill', 'skype', 'sleep', 'sleeping', 'slightly', 'slow', 'slowly', 'small', 'smaller', 'smart', 'smarter', 'snooze', 'socket', 'software', 'sold', 'solid', 'solution', 'solved', 'someone', 'something', 'sometimes', 'somewhat', 'son', 'song', 'sonos', 'sony', 'soon', 'sooner', 'sorry', 'sound', 'sounding', 'source', 'space', 'spam', 'spark', 'speak', 'speaker', 'speaking', 'special', 'specific', 'specifically', 'speech', 'speed', 'spend', 'spent', 'spoiled', 'sport', 'spot', 'spotify', 'spying', 'st', 'stand', 'standard', 'standing', 'star', 'start', 'started', 'starting', 'state', 'station', 'stay', 'step', 'stereo', 'stick', 'still', 'stop', 'stopped', 'story', 'straight', 'stream', 'streaming', 'strong', 'stuff', 'stupid', 'style', 'su', 'subscribing', 'subscription', 'suck', 'suggestion', 'super', 'superb', 'superior', 'support', 'supporting', 'suppose', 'supposed', 'sure', 'surprised', 'surprisingly', 'swipe', 'switch', 'switched', 'sync', 'system', 'table', 'tablet', 'tad', 'take', 'taking', 'talk', 'talking', 'tall', 'tap', 'tapped', 'task', 'tech', 'technically', 'technologically', 'technology', 'television', 'tell', 'telling', 'temp', 'temperature', 'terrible', 'terrific', 'test', 'testing', 'text', 'th', 'thank', 'thanks', 'thermostat', 'thing', 'think', 'thinking', 'third', 'thong', 'thoroughly', 'though', 'thought', 'three', 'throughout', 'thru', 'thunderstorm', 'till', 'time', 'timer', 'timing', 'tin', 'tip', 'title', 'today', 'together', 'told', 'ton', 'took', 'tool', 'tooth', 'top', 'total', 'totally', 'touch', 'touching', 'toy', 'tp', 'traffic', 'trailer', 'training', 'travel', 'treadmill', 'treble', 'trek', 'trial', 'tried', 'trip', 'trivia', 'trouble', 'true', 'truly', 'try', 'trying', 'tube', 'tune', 'turn', 'turned', 'turning', 'tv', 'tweeter', 'twice', 'twist', 'two', 'type', 'unable', 'unbelievable', 'understand', 'understands', 'unfortunately', 'unique', 'unit', 'unless', 'unlimited', 'unnecessary', 'unplug', 'unplugged', 'update', 'updated', 'upgrade', 'upgraded', 'upstairs', 'us', 'usb', 'use', 'used', 'useful', 'useless', 'user', 'using', 'usually', 'vacation', 'value', 'variety', 'various', 'versatile', 'versatility', 'verse', 'version', 'via', 'video', 'view', 'viewing', 'visiting', 'visual', 'voice', 'volume', 'wait', 'waited', 'waiting', 'wake', 'waking', 'walk', 'walked', 'walking', 'wall', 'want', 'wanted', 'wanting', 'warehouse', 'warranty', 'waste', 'watch', 'watching', 'water', 'wave', 'way', 'weak', 'weather', 'web', 'website', 'week', 'weekend', 'weird', 'well', 'went', 'whatever', 'whats', 'whenever', 'whether', 'white', 'whole', 'wi', 'wife', 'wifi', 'wikipedia', 'willing', 'wind', 'wireless', 'wish', 'within', 'without', 'woke', 'woken', 'wonder', 'wonderful', 'wonderfully', 'woofer', 'word', 'work', 'worked', 'working', 'world', 'worried', 'worry', 'worth', 'worthless', 'would', 'wow', 'writing', 'wrong', 'yard', 'year', 'yell', 'yelling', 'yes', 'yesterday', 'yet', 'youtube', 'yr', 'zero', 'zigbee']\n"
     ]
    }
   ],
   "source": [
    "print(cv.get_feature_names())"
   ]
  },
  {
   "cell_type": "code",
   "execution_count": 48,
   "metadata": {
    "ExecuteTime": {
     "end_time": "2021-03-18T13:38:47.807330Z",
     "start_time": "2021-03-18T13:38:47.502059Z"
    },
    "execution": {
     "iopub.execute_input": "2021-01-20T16:17:03.547500Z",
     "iopub.status.busy": "2021-01-20T16:17:03.546746Z",
     "iopub.status.idle": "2021-01-20T16:17:03.575383Z",
     "shell.execute_reply": "2021-01-20T16:17:03.575937Z"
    },
    "papermill": {
     "duration": 0.077866,
     "end_time": "2021-01-20T16:17:03.576150",
     "exception": false,
     "start_time": "2021-01-20T16:17:03.498284",
     "status": "completed"
    },
    "tags": []
   },
   "outputs": [],
   "source": [
    "# Splitting the dataset into the Training set and Test set\n",
    "from sklearn.model_selection import train_test_split\n",
    "X_train, X_test, y_train, y_test = train_test_split(X, y, test_size = 0.20, random_state = 0)"
   ]
  },
  {
   "cell_type": "code",
   "execution_count": 49,
   "metadata": {
    "ExecuteTime": {
     "end_time": "2021-03-18T13:38:49.670236Z",
     "start_time": "2021-03-18T13:38:49.663242Z"
    },
    "_kg_hide-output": true,
    "execution": {
     "iopub.execute_input": "2021-01-20T16:17:03.678842Z",
     "iopub.status.busy": "2021-01-20T16:17:03.677530Z",
     "iopub.status.idle": "2021-01-20T16:17:03.682484Z",
     "shell.execute_reply": "2021-01-20T16:17:03.683022Z"
    },
    "papermill": {
     "duration": 0.060431,
     "end_time": "2021-01-20T16:17:03.683191",
     "exception": false,
     "start_time": "2021-01-20T16:17:03.622760",
     "status": "completed"
    },
    "tags": []
   },
   "outputs": [
    {
     "data": {
      "text/plain": [
       "array([[0, 0, 0, ..., 0, 0, 0],\n",
       "       [0, 0, 0, ..., 0, 0, 0],\n",
       "       [0, 0, 0, ..., 0, 0, 0],\n",
       "       ...,\n",
       "       [0, 0, 0, ..., 0, 0, 0],\n",
       "       [0, 0, 0, ..., 0, 0, 0],\n",
       "       [0, 0, 0, ..., 0, 0, 0]], dtype=int64)"
      ]
     },
     "execution_count": 49,
     "metadata": {},
     "output_type": "execute_result"
    }
   ],
   "source": [
    "X_train"
   ]
  },
  {
   "cell_type": "code",
   "execution_count": 50,
   "metadata": {
    "ExecuteTime": {
     "end_time": "2021-03-18T13:39:09.450877Z",
     "start_time": "2021-03-18T13:39:03.941805Z"
    },
    "execution": {
     "iopub.execute_input": "2021-01-20T16:17:03.781520Z",
     "iopub.status.busy": "2021-01-20T16:17:03.780597Z",
     "iopub.status.idle": "2021-01-20T16:17:06.246624Z",
     "shell.execute_reply": "2021-01-20T16:17:06.246035Z"
    },
    "papermill": {
     "duration": 2.517441,
     "end_time": "2021-01-20T16:17:06.246765",
     "exception": false,
     "start_time": "2021-01-20T16:17:03.729324",
     "status": "completed"
    },
    "tags": []
   },
   "outputs": [
    {
     "data": {
      "text/plain": [
       "RandomForestClassifier(criterion='entropy', random_state=0)"
      ]
     },
     "execution_count": 50,
     "metadata": {},
     "output_type": "execute_result"
    }
   ],
   "source": [
    "# Fitting Random Forest classifier with 100 trees to the Training set\n",
    "from sklearn.ensemble import RandomForestClassifier\n",
    "classifier = RandomForestClassifier(n_estimators = 100, criterion = 'entropy', random_state = 0)\n",
    "classifier.fit(X_train, y_train)"
   ]
  },
  {
   "cell_type": "code",
   "execution_count": 51,
   "metadata": {
    "ExecuteTime": {
     "end_time": "2021-03-18T13:39:11.250375Z",
     "start_time": "2021-03-18T13:39:11.079309Z"
    },
    "execution": {
     "iopub.execute_input": "2021-01-20T16:17:06.345721Z",
     "iopub.status.busy": "2021-01-20T16:17:06.344543Z",
     "iopub.status.idle": "2021-01-20T16:17:06.389536Z",
     "shell.execute_reply": "2021-01-20T16:17:06.388965Z"
    },
    "papermill": {
     "duration": 0.096582,
     "end_time": "2021-01-20T16:17:06.389671",
     "exception": false,
     "start_time": "2021-01-20T16:17:06.293089",
     "status": "completed"
    },
    "tags": []
   },
   "outputs": [],
   "source": [
    "# Predicting the Test set results\n",
    "y_pred = classifier.predict(X_test)"
   ]
  },
  {
   "cell_type": "code",
   "execution_count": 52,
   "metadata": {
    "ExecuteTime": {
     "end_time": "2021-03-18T13:39:14.040987Z",
     "start_time": "2021-03-18T13:39:14.031994Z"
    },
    "_kg_hide-output": true,
    "execution": {
     "iopub.execute_input": "2021-01-20T16:17:06.496400Z",
     "iopub.status.busy": "2021-01-20T16:17:06.495652Z",
     "iopub.status.idle": "2021-01-20T16:17:06.499751Z",
     "shell.execute_reply": "2021-01-20T16:17:06.500430Z"
    },
    "papermill": {
     "duration": 0.061555,
     "end_time": "2021-01-20T16:17:06.500579",
     "exception": false,
     "start_time": "2021-01-20T16:17:06.439024",
     "status": "completed"
    },
    "tags": []
   },
   "outputs": [
    {
     "data": {
      "text/plain": [
       "array([1, 1, 1, 1, 1, 1, 1, 1, 1, 1, 1, 1, 1, 1, 1, 1, 1, 1, 1, 1, 1, 1,\n",
       "       1, 1, 1, 1, 1, 1, 1, 1, 1, 1, 1, 1, 1, 1, 1, 1, 1, 1, 0, 1, 1, 1,\n",
       "       1, 1, 1, 1, 1, 1, 1, 1, 0, 1, 0, 1, 1, 1, 1, 1, 1, 1, 1, 1, 1, 1,\n",
       "       1, 1, 1, 1, 1, 1, 1, 1, 1, 1, 1, 1, 1, 1, 1, 1, 1, 1, 1, 1, 1, 1,\n",
       "       1, 1, 1, 1, 1, 1, 1, 1, 1, 1, 1, 1, 1, 1, 1, 1, 1, 1, 1, 1, 1, 1,\n",
       "       1, 1, 1, 1, 1, 1, 1, 1, 1, 1, 1, 1, 1, 1, 1, 1, 1, 1, 1, 1, 1, 1,\n",
       "       1, 0, 1, 1, 0, 1, 1, 1, 1, 1, 1, 1, 1, 1, 1, 0, 1, 1, 1, 1, 1, 1,\n",
       "       1, 1, 1, 1, 1, 1, 1, 1, 1, 1, 1, 1, 1, 1, 1, 1, 1, 1, 1, 1, 1, 1,\n",
       "       1, 1, 1, 1, 1, 1, 1, 1, 1, 1, 1, 1, 1, 1, 1, 1, 1, 1, 1, 1, 1, 1,\n",
       "       1, 1, 1, 1, 1, 1, 1, 1, 1, 1, 1, 1, 0, 1, 1, 1, 1, 1, 1, 1, 1, 1,\n",
       "       1, 1, 1, 1, 1, 1, 1, 1, 1, 1, 1, 1, 1, 1, 1, 1, 1, 1, 1, 1, 0, 1,\n",
       "       1, 1, 1, 1, 1, 1, 1, 1, 1, 1, 1, 1, 1, 1, 1, 1, 1, 1, 1, 1, 1, 1,\n",
       "       1, 1, 1, 1, 1, 1, 1, 1, 1, 1, 1, 1, 1, 1, 1, 1, 1, 1, 1, 1, 1, 1,\n",
       "       1, 1, 1, 1, 1, 1, 1, 1, 1, 1, 1, 1, 1, 1, 1, 1, 1, 1, 1, 1, 1, 1,\n",
       "       1, 1, 1, 1, 1, 1, 1, 1, 1, 1, 1, 1, 1, 1, 1, 1, 1, 1, 1, 0, 1, 1,\n",
       "       1, 1, 1, 1, 1, 1, 1, 1, 1, 0, 1, 1, 1, 1, 1, 1, 1, 1, 1, 1, 1, 1,\n",
       "       1, 1, 1, 1, 1, 1, 1, 1, 1, 1, 1, 1, 1, 1, 1, 1, 1, 1, 1, 1, 1, 1,\n",
       "       1, 1, 1, 1, 0, 1, 1, 1, 1, 1, 1, 1, 1, 0, 1, 1, 1, 1, 1, 1, 1, 1,\n",
       "       1, 1, 1, 1, 1, 1, 1, 1, 1, 1, 1, 1, 1, 1, 0, 1, 1, 1, 1, 1, 1, 1,\n",
       "       1, 1, 1, 1, 1, 1, 1, 1, 1, 1, 1, 1, 1, 1, 1, 1, 1, 1, 1, 1, 1, 1,\n",
       "       1, 1, 1, 1, 1, 0, 1, 1, 1, 1, 1, 1, 1, 1, 1, 1, 1, 1, 1, 1, 1, 0,\n",
       "       1, 1, 1, 1, 1, 1, 1, 1, 1, 1, 1, 1, 1, 1, 1, 1, 1, 1, 1, 1, 1, 1,\n",
       "       1, 1, 1, 1, 1, 1, 1, 1, 1, 1, 1, 1, 1, 1, 1, 1, 1, 1, 1, 1, 1, 1,\n",
       "       1, 1, 1, 1, 1, 1, 1, 1, 1, 1, 1, 1, 1, 1, 1, 1, 1, 1, 1, 1, 1, 1,\n",
       "       1, 1, 1, 1, 1, 1, 1, 1, 1, 1, 1, 1, 1, 1, 1, 1, 1, 1, 1, 1, 1, 1,\n",
       "       1, 1, 1, 1, 1, 1, 0, 1, 1, 1, 1, 1, 1, 1, 1, 1, 1, 1, 1, 1, 1, 1,\n",
       "       1, 1, 1, 1, 1, 1, 1, 1, 1, 1, 1, 1, 1, 1, 1, 1, 1, 1, 1, 1, 1, 1,\n",
       "       1, 1, 0, 1, 1, 1, 1, 1, 1, 0, 1, 1, 1, 1, 1, 1, 1, 1, 1, 1, 1, 1,\n",
       "       1, 1, 1, 1, 1, 1, 1, 1, 1, 1, 1, 1, 1, 1], dtype=int64)"
      ]
     },
     "execution_count": 52,
     "metadata": {},
     "output_type": "execute_result"
    }
   ],
   "source": [
    "y_pred"
   ]
  },
  {
   "cell_type": "code",
   "execution_count": 53,
   "metadata": {
    "ExecuteTime": {
     "end_time": "2021-03-18T13:39:22.436522Z",
     "start_time": "2021-03-18T13:39:22.279488Z"
    },
    "execution": {
     "iopub.execute_input": "2021-01-20T16:17:06.600220Z",
     "iopub.status.busy": "2021-01-20T16:17:06.599545Z",
     "iopub.status.idle": "2021-01-20T16:17:06.608249Z",
     "shell.execute_reply": "2021-01-20T16:17:06.607480Z"
    },
    "papermill": {
     "duration": 0.061182,
     "end_time": "2021-01-20T16:17:06.608399",
     "exception": false,
     "start_time": "2021-01-20T16:17:06.547217",
     "status": "completed"
    },
    "tags": []
   },
   "outputs": [],
   "source": [
    "# Making the Confusion Matrix\n",
    "from sklearn.metrics import confusion_matrix\n",
    "cm = confusion_matrix(y_test, y_pred)"
   ]
  },
  {
   "cell_type": "code",
   "execution_count": 54,
   "metadata": {
    "ExecuteTime": {
     "end_time": "2021-03-18T13:39:24.017067Z",
     "start_time": "2021-03-18T13:39:24.012073Z"
    },
    "execution": {
     "iopub.execute_input": "2021-01-20T16:17:06.715285Z",
     "iopub.status.busy": "2021-01-20T16:17:06.714555Z",
     "iopub.status.idle": "2021-01-20T16:17:06.719682Z",
     "shell.execute_reply": "2021-01-20T16:17:06.718938Z"
    },
    "papermill": {
     "duration": 0.060203,
     "end_time": "2021-01-20T16:17:06.719805",
     "exception": false,
     "start_time": "2021-01-20T16:17:06.659602",
     "status": "completed"
    },
    "tags": []
   },
   "outputs": [
    {
     "data": {
      "text/plain": [
       "array([[ 16,  38],\n",
       "       [  2, 574]], dtype=int64)"
      ]
     },
     "execution_count": 54,
     "metadata": {},
     "output_type": "execute_result"
    }
   ],
   "source": [
    "cm"
   ]
  },
  {
   "cell_type": "markdown",
   "metadata": {
    "papermill": {
     "duration": 0.050611,
     "end_time": "2021-01-20T16:17:06.816889",
     "exception": false,
     "start_time": "2021-01-20T16:17:06.766278",
     "status": "completed"
    },
    "tags": []
   },
   "source": [
    "Let us now calculate Precision and F1 Score to determine the correctness of the model."
   ]
  },
  {
   "cell_type": "code",
   "execution_count": 55,
   "metadata": {
    "ExecuteTime": {
     "end_time": "2021-03-18T13:39:28.877268Z",
     "start_time": "2021-03-18T13:39:28.827961Z"
    },
    "execution": {
     "iopub.execute_input": "2021-01-20T16:17:06.914644Z",
     "iopub.status.busy": "2021-01-20T16:17:06.913921Z",
     "iopub.status.idle": "2021-01-20T16:17:06.919465Z",
     "shell.execute_reply": "2021-01-20T16:17:06.918721Z"
    },
    "papermill": {
     "duration": 0.056587,
     "end_time": "2021-01-20T16:17:06.919590",
     "exception": false,
     "start_time": "2021-01-20T16:17:06.863003",
     "status": "completed"
    },
    "tags": []
   },
   "outputs": [],
   "source": [
    "from sklearn.metrics import precision_score\n",
    "# calculate prediction\n",
    "precision = precision_score(y_test, y_pred, average='binary')"
   ]
  },
  {
   "cell_type": "code",
   "execution_count": 56,
   "metadata": {
    "ExecuteTime": {
     "end_time": "2021-03-18T13:39:30.762176Z",
     "start_time": "2021-03-18T13:39:30.715924Z"
    },
    "execution": {
     "iopub.execute_input": "2021-01-20T16:17:07.023613Z",
     "iopub.status.busy": "2021-01-20T16:17:07.022772Z",
     "iopub.status.idle": "2021-01-20T16:17:07.027118Z",
     "shell.execute_reply": "2021-01-20T16:17:07.027701Z"
    },
    "papermill": {
     "duration": 0.059478,
     "end_time": "2021-01-20T16:17:07.027875",
     "exception": false,
     "start_time": "2021-01-20T16:17:06.968397",
     "status": "completed"
    },
    "tags": []
   },
   "outputs": [
    {
     "data": {
      "text/plain": [
       "0.9379084967320261"
      ]
     },
     "execution_count": 56,
     "metadata": {},
     "output_type": "execute_result"
    }
   ],
   "source": [
    "precision"
   ]
  },
  {
   "cell_type": "code",
   "execution_count": 58,
   "metadata": {
    "ExecuteTime": {
     "end_time": "2021-03-18T13:39:38.264548Z",
     "start_time": "2021-03-18T13:39:38.254556Z"
    },
    "execution": {
     "iopub.execute_input": "2021-01-20T16:17:07.130955Z",
     "iopub.status.busy": "2021-01-20T16:17:07.130162Z",
     "iopub.status.idle": "2021-01-20T16:17:07.135760Z",
     "shell.execute_reply": "2021-01-20T16:17:07.134943Z"
    },
    "papermill": {
     "duration": 0.060846,
     "end_time": "2021-01-20T16:17:07.135887",
     "exception": false,
     "start_time": "2021-01-20T16:17:07.075041",
     "status": "completed"
    },
    "tags": []
   },
   "outputs": [],
   "source": [
    "from sklearn.metrics import f1_score\n",
    "score = f1_score(y_test, y_pred, average='binary')"
   ]
  },
  {
   "cell_type": "code",
   "execution_count": 59,
   "metadata": {
    "ExecuteTime": {
     "end_time": "2021-03-18T13:39:40.814210Z",
     "start_time": "2021-03-18T13:39:40.808217Z"
    },
    "execution": {
     "iopub.execute_input": "2021-01-20T16:17:07.235028Z",
     "iopub.status.busy": "2021-01-20T16:17:07.233958Z",
     "iopub.status.idle": "2021-01-20T16:17:07.239373Z",
     "shell.execute_reply": "2021-01-20T16:17:07.238588Z"
    },
    "papermill": {
     "duration": 0.057477,
     "end_time": "2021-01-20T16:17:07.239515",
     "exception": false,
     "start_time": "2021-01-20T16:17:07.182038",
     "status": "completed"
    },
    "tags": []
   },
   "outputs": [
    {
     "data": {
      "text/plain": [
       "0.9663299663299663"
      ]
     },
     "execution_count": 59,
     "metadata": {},
     "output_type": "execute_result"
    }
   ],
   "source": [
    "score"
   ]
  },
  {
   "cell_type": "code",
   "execution_count": 60,
   "metadata": {
    "ExecuteTime": {
     "end_time": "2021-03-18T13:40:02.705570Z",
     "start_time": "2021-03-18T13:40:02.698577Z"
    }
   },
   "outputs": [
    {
     "data": {
      "text/plain": [
       "0       1\n",
       "1       1\n",
       "2       1\n",
       "3       1\n",
       "4       1\n",
       "       ..\n",
       "3145    1\n",
       "3146    1\n",
       "3147    1\n",
       "3148    1\n",
       "3149    1\n",
       "Name: feedback, Length: 3150, dtype: int64"
      ]
     },
     "execution_count": 60,
     "metadata": {},
     "output_type": "execute_result"
    }
   ],
   "source": [
    "dataset.iloc[:,4]"
   ]
  }
 ],
 "metadata": {
  "kernelspec": {
   "display_name": "Python 3",
   "language": "python",
   "name": "python3"
  },
  "language_info": {
   "codemirror_mode": {
    "name": "ipython",
    "version": 3
   },
   "file_extension": ".py",
   "mimetype": "text/x-python",
   "name": "python",
   "nbconvert_exporter": "python",
   "pygments_lexer": "ipython3",
   "version": "3.8.3"
  },
  "papermill": {
   "duration": 30.748118,
   "end_time": "2021-01-20T16:17:07.396458",
   "environment_variables": {},
   "exception": null,
   "input_path": "__notebook__.ipynb",
   "output_path": "__notebook__.ipynb",
   "parameters": {},
   "start_time": "2021-01-20T16:16:36.648340",
   "version": "2.1.0"
  }
 },
 "nbformat": 4,
 "nbformat_minor": 4
}
